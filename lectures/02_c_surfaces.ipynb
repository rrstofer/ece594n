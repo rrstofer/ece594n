{
 "cells": [
  {
   "cell_type": "markdown",
   "id": "83fc4529",
   "metadata": {
    "slideshow": {
     "slide_type": "slide"
    }
   },
   "source": [
    "# 02 Computational Representations of (Biomedical) Shapes\n",
    "\n",
    "## C) Shapes of Surfaces\n",
    "\n",
    "$\\color{#003660}{\\text{Nina Miolane - Assistant Professor}}$ @ BioShape Lab @ UCSB ECE\n",
    "\n",
    "<center><img src=\"figs/02_skull_geod.png\" width=1400px alt=\"default\"/></center>\n",
    "<center>Geodesic between two wolves' skulls. </center>\n"
   ]
  },
  {
   "cell_type": "markdown",
   "id": "d9995986",
   "metadata": {
    "slideshow": {
     "slide_type": "slide"
    }
   },
   "source": [
    "# Outline\n",
    "\n",
    "- **Unit 2 (Shapes): Computational Representations of Biomedical Shapes**\n",
    "  - A) Shapes of landmarks\n",
    "  - B) Shapes of curves\n",
    "  - **C) Shapes of surfaces**\n",
    "    - Motivation: Shape of Skulls in Paleontology\n",
    "    - Practice: Analysis in SRNF Quotient space\n",
    "    - Theory: Geometry of SNRF manifolds\n",
    "  - D) Deformations"
   ]
  },
  {
   "cell_type": "markdown",
   "id": "5c6c17ac",
   "metadata": {
    "slideshow": {
     "slide_type": "slide"
    }
   },
   "source": [
    "## Motivation: Shape of Skulls in Paleontology"
   ]
  },
  {
   "cell_type": "markdown",
   "id": "38fc775c",
   "metadata": {
    "slideshow": {
     "slide_type": "slide"
    }
   },
   "source": [
    "###  Paleontology, the study of ancient life\n",
    "\n",
    "$\\color{#EF5645}{\\text{Definition}}$: Paleontology is the study of ancient life, e.g. fossils, which aims to:\n",
    "- classify organisms,\n",
    "- study their interactions with each other and their environments, \n",
    "- understand their evolutions.\n",
    "\n",
    "\n",
    "<center><img src=\"figs/02_wolf_evolution.jpeg\" width=400px alt=\"default\"/></center>"
   ]
  },
  {
   "cell_type": "markdown",
   "id": "7deaa85b",
   "metadata": {
    "slideshow": {
     "slide_type": "slide"
    }
   },
   "source": [
    "### Skul Shapes and Species Evolution\n",
    "\n",
    "Understanding ancient species has sparkled an interest for shape analysis!\n",
    "\n",
    "\n",
    "$\\color{#EF5645}{\\text{Question for today}}$: Is there a difference between skull shapes from two groups of wolves? \n",
    "\n",
    "If there is, it would require breaking the wolf taxonomy into two species instead of keeping one."
   ]
  },
  {
   "cell_type": "markdown",
   "id": "3c95fcb4",
   "metadata": {
    "cell_style": "split"
   },
   "source": [
    "<center><img src=\"figs/02_skull1.jpg\" width=400px alt=\"default\"/></center>\n",
    "<center>Mean shape of group 1</center>"
   ]
  },
  {
   "cell_type": "markdown",
   "id": "809603cb",
   "metadata": {
    "cell_style": "split"
   },
   "source": [
    "<center><img src=\"figs/02_skull2.jpg\" width=400px alt=\"default\"/></center>\n",
    "<center>Mean shape of group 2</center>"
   ]
  },
  {
   "cell_type": "markdown",
   "id": "e07c209a",
   "metadata": {
    "slideshow": {
     "slide_type": "slide"
    }
   },
   "source": [
    "### Data\n",
    "\n",
    "\n",
    "- Meshed surfaces can be obtained from www.morphosource.org\n",
    "\n",
    "\n",
    "<center><img src=\"figs/02_morphosource.png\" width=1200px alt=\"default\"/></center>"
   ]
  },
  {
   "cell_type": "markdown",
   "id": "ad9e0c9e",
   "metadata": {
    "slideshow": {
     "slide_type": "slide"
    }
   },
   "source": [
    "### From Shapes of Curves to Shapes of Surfaces\n",
    "\n",
    "$\\rightarrow$ Difference between shapes of curves and shapes of surfaces?"
   ]
  },
  {
   "cell_type": "markdown",
   "id": "a5daaf03",
   "metadata": {
    "slideshow": {
     "slide_type": "-"
    }
   },
   "source": [
    "- Curves are made of sampling points that are discretizing a continuous curve: \n",
    "  - Their position along the curve is not biologically relevant.\n",
    "  \n",
    "- Surfaces are made of sampling points, _that are vertices in meshes_:\n",
    "  - Their position _on the surface_ is not biologically relevant.\n",
    "  \n",
    "<center><img src=\"figs/02_skull_meshes.png\" width=400px alt=\"default\"/></center>\n",
    "  "
   ]
  },
  {
   "cell_type": "markdown",
   "id": "7fcce6fb",
   "metadata": {
    "slideshow": {
     "slide_type": "slide"
    }
   },
   "source": [
    "### From Surfaces to Shapes of Surfaces\n",
    "\n",
    "$\\color{#EF5645}{\\text{Definition}}$: Two surfaces are said to have the same shape if one surface can be obtained by translating, rotating, re-scaling, or _reparameterizing_ the other.\n",
    "\n",
    "$\\rightarrow$ We do not want to do machine learning on the surfaces directly...\n",
    "\n",
    "...but rather on the shapes of these surfaces.\n",
    "\n",
    "<center><img src=\"figs/02_skull_meshes.png\" width=400px alt=\"default\"/></center>\n"
   ]
  },
  {
   "cell_type": "markdown",
   "id": "ff586483",
   "metadata": {
    "slideshow": {
     "slide_type": "slide"
    }
   },
   "source": [
    "## Practice: Analysis in SRNF Quotient space"
   ]
  },
  {
   "cell_type": "markdown",
   "id": "4c29fff2",
   "metadata": {
    "slideshow": {
     "slide_type": "slide"
    }
   },
   "source": [
    "$\\color{#EF5645}{\\text{Definition}}$: _SRNF Quotient Analysis_ is a general method to perform machine learning on shapes of objects defined by meshed surfaces $X_0, ..., X_n$.\n",
    "\n",
    "1. Superimpose objects $X_0, ..., X_n$: translate, rotate, possibly scale, reparameterize."
   ]
  },
  {
   "cell_type": "markdown",
   "id": "ee6e5315",
   "metadata": {},
   "source": [
    "- Remove translation, scaling, and rotation:\n",
    "  - by optimally superimposing surfaces including: rescaling _their area_ to 1.\n",
    "- Remove reparameterization:\n",
    "  - by optimally aligning their parameterization.\n",
    "    \n",
    "- $\\rightarrow$ This sends objects in a _SRNF quotient space_ with `SRNFQuotientMetric`."
   ]
  },
  {
   "cell_type": "markdown",
   "id": "a8097518",
   "metadata": {
    "slideshow": {
     "slide_type": "-"
    }
   },
   "source": [
    "2. Perform machine learning on superimposed objects (shapes)."
   ]
  },
  {
   "cell_type": "markdown",
   "id": "91ed994f",
   "metadata": {
    "slideshow": {
     "slide_type": "skip"
    }
   },
   "source": [
    "### Recall: Curves\n",
    "\n",
    "After centering, rescaling, an optimally rotating:\n",
    "- By choosing our tool as: the Riemannian metric of a \"Quotient SRV space\"... \n",
    "- ... elementary operations - e.g. geodesics - are independent of reparameterizations.\n",
    "\n",
    "$\\color{#047C91}{\\text{Example}}$: We get the same geodesic:\n",
    "  - between `curve_a` and `curve_b` \n",
    "  - and between `curve_a` and `reparam_curve_b`.\n",
    "\n",
    "The geodesic chooses an optimal parameterization of `curve_a` and `curve_b`.\n",
    "\n",
    "<center><img src=\"figs/02_curve_reparam.png\" width=300px alt=\"default\"/></center>"
   ]
  },
  {
   "cell_type": "markdown",
   "id": "96ffeecb",
   "metadata": {
    "slideshow": {
     "slide_type": "skip"
    }
   },
   "source": [
    "### Surfaces\n",
    "\n",
    "After centering, rescaling, an optimally rotating:\n",
    "- By choosing our tool: the Riemannian metric of the SNRF Quotient space...\n",
    "- ... elementary operations - e.g. geodesic - are independent of reparameterizations.\n",
    "\n",
    "$\\color{#047C91}{\\text{Example}}$: Geodesic between 2 skulls is independent on the parameterization of the surfaces: an optimal parameterization has been chosen.\n",
    "\n",
    "<center><img src=\"figs/02_skull_geod.png\" width=1300px alt=\"default\"/></center>"
   ]
  },
  {
   "cell_type": "markdown",
   "id": "d8ac79ee",
   "metadata": {
    "slideshow": {
     "slide_type": "slide"
    }
   },
   "source": [
    "## Theory: SRNF Quotient  Space"
   ]
  },
  {
   "cell_type": "markdown",
   "id": "4849e5e8",
   "metadata": {
    "slideshow": {
     "slide_type": "slide"
    }
   },
   "source": [
    "### From Parameterized Curves to Parameterized Surfaces\n",
    "\n",
    "\n",
    "$\\color{#EF5645}{\\text{Recall (Curves)}}$: \n",
    "- A _parameterized curve_ is a function $\\beta: [0, 1] \\rightarrow \\mathbb{R}^{d}$, where $d=2$ or $d=3$. \n",
    "- The tangent vector to the parameterized curve at $t \\in [0, 1]$ is given by $\\dot \\beta(t) = \\frac{d\\beta(t)}{dt}$.\n",
    "\n",
    "<center><img src=\"figs/02_curves_to_surfaces.svg\" width=1400px alt=\"default\"/></center>"
   ]
  },
  {
   "cell_type": "markdown",
   "id": "413a1762",
   "metadata": {
    "slideshow": {
     "slide_type": "slide"
    }
   },
   "source": [
    "$\\color{#EF5645}{\\text{Definition (Surfaces)}}$: \n",
    "- A _parameterized surface_ is defined as a function $f: D\\rightarrow \\mathbb{R}^{3}$, where $D$ is the unit square.\n",
    "- The normal to the surface at $s=(u, v) \\in D$ is given by: $n(s) = \\frac{\\partial f}{\\partial u}(s) \\times \\frac{\\partial f}{\\partial v}(s)$.\n",
    "\n",
    "<center><img src=\"figs/02_curves_to_surfaces.svg\" width=1400px alt=\"default\"/></center>"
   ]
  },
  {
   "cell_type": "markdown",
   "id": "7ceef6ba",
   "metadata": {
    "slideshow": {
     "slide_type": "slide"
    }
   },
   "source": [
    "### SNRF Transform\n",
    "\n",
    "We will present the theory for continuous surfaces.\n",
    "\n",
    "$\\color{#EF5645}{\\text{Definition}}$: Let $f$ be a parameterized surface $f: D\\rightarrow \\mathbb{R}^{3}$, where $D$ is the unit square, and let $n(s) = \\frac{\\partial f}{\\partial u}(s) \\times \\frac{\\partial f}{\\partial v}(s)$ be its normal at $s$.\n",
    "\n",
    "The _square root normal field (SRNF)_ $q: D \\rightarrow \\mathbb{R}^{3}$ of the surface $f$ is defined as\n",
    "$$\n",
    "q(s)=\\frac{n(s)}{\\sqrt{|n(s)|}}.\n",
    "$$ \n",
    "\n",
    "<center><img src=\"figs/02_srv_to_snrf.svg\" width=1400px alt=\"default\"/></center>"
   ]
  },
  {
   "cell_type": "markdown",
   "id": "e2359723",
   "metadata": {
    "slideshow": {
     "slide_type": "slide"
    }
   },
   "source": [
    "### SRNF Transform and Translations\n",
    "\n",
    "_What happens when we removed the translation?_\n",
    "\n",
    "$\\color{#6D7D33}{\\text{Property}}$: The SRNF transform $q$ is independent of the position of the surface $f$, i.e. it naturally removes the translation (we do not have to do it manually).\n",
    "\n",
    "<center><img src=\"figs/02_snrf.svg\" width=800px alt=\"default\"/></center>\n"
   ]
  },
  {
   "cell_type": "markdown",
   "id": "d59690ce",
   "metadata": {
    "slideshow": {
     "slide_type": "slide"
    }
   },
   "source": [
    "### Lengths of Curves and Areas of Surfaces\n",
    "\n",
    "_What happens when we removed the scaling, i.e. when we rescale the surfaces to be of unit area?_\n",
    "\n",
    "$\\color{#EF5645}{\\text{Recall}}$: \n",
    "- The length of a curve $\\beta : [0, 1] \\rightarrow \\mathbb{R}^d$ for $d=2$ or $d=3$ is: $L(\\beta) = \\int_{0}^1 \\|\\dot \\beta(t)\\| dt$\n",
    "\n",
    "$\\color{#EF5645}{\\text{Definition}}$:\n",
    "- The area of a surface $f : D \\rightarrow \\mathbb{R}^3$ is: $A(f) = \\int_D \\|n(s)\\| ds$."
   ]
  },
  {
   "cell_type": "markdown",
   "id": "46b67ea6",
   "metadata": {
    "slideshow": {
     "slide_type": "slide"
    }
   },
   "source": [
    "$\\color{#6D7D33}{\\text{Property}}$: The restriction that $f$ is of unit area: $A(f) = \\int_D \\|n(s)\\| ds=1$ translates into a restriction on its SRNF transform $q$: $\\int_D \\|q(s)\\|^{2} ds = 1.$\n",
    "\n",
    "\n",
    "$\\color{#6D7D33}{\\text{Proof}}$: Consider $q$ the SRNF of $f$. Assume $f$ has unit area, so that $A(f)=1$. We have:\n",
    "$$\\int_D \\|q(s)\\|^{2} ds = \\int_D \\left| \\frac{n(s)}{\\sqrt{|n(s)|}} \\right|^2 ds = \\int_D \\frac{|n(s)|^2}{|n(s)|} ds= \\int_D \\|n(s)\\| ds=1.$$\n",
    "\n",
    "<center><img src=\"figs/02_snrf_spaces.svg\" width=1100px alt=\"default\"/></center>"
   ]
  },
  {
   "cell_type": "markdown",
   "id": "15285dac",
   "metadata": {
    "slideshow": {
     "slide_type": "slide"
    }
   },
   "source": [
    "### Preshape Space of continuous surfaces\n",
    "\n",
    "Rescaling the surface $f$ assigns its SRNF $q$ to an hypersphere in $L(D, \\mathbb{R}^3)$.\n",
    "\n",
    "- Similar to what happens in Kendall shape spaces, but the notion of \"size\" is different.\n",
    "- Except that the hypersphere is within a infinite dimensional space: $L(D, \\mathbb{R}^3)$, which makes sense since a continuous surface has an infinite number of landmarks.\n",
    "\n",
    "$\\color{#EF5645}{\\text{Definition}}$: The hypersphere $S$ in $L(D, \\mathbb{R}^3)$ defined by $\\int_{D}\\|q(s)\\|^{2} ds=1$ is called the _preshape space for continuous surfaces_."
   ]
  },
  {
   "cell_type": "markdown",
   "id": "250f44b5",
   "metadata": {
    "slideshow": {
     "slide_type": "slide"
    }
   },
   "source": [
    "### SNRF Transform and Rotations\n",
    "\n",
    "_What happens when we removed the rotation?_\n",
    "\n",
    "$\\color{#6D7D33}{\\text{Property}}$: Finding the optimal rotation aligning surfaces $f_a, f_b$ is equivalent to finding the optimal rotation aligning their SRNF transforms $q_a, q_b$. In other words, a 3D rotation $R \\in SO(3)$ rotating a surface $f$ is equivalently rotating its SRNF: $q(R.f) = R. q(f).$\n",
    "\n",
    "\n",
    "<center><img src=\"figs/02_orbits_sphere.png\" width=300px alt=\"default\"/></center>\n",
    "<center>Schematic illustration of the orbits of $SO(3)$ on the preshape (infinite dimensional) hypersphere, represented as orbits of $SO(2)$ on the 2D sphere for convenience.</center>"
   ]
  },
  {
   "cell_type": "markdown",
   "id": "de2e4fd4",
   "metadata": {
    "slideshow": {
     "slide_type": "slide"
    }
   },
   "source": [
    "### SNRF Transform and Reparameterization\n",
    "\n",
    "_How do we remove the reparameterization?_\n",
    "\n",
    "$\\color{#6D7D33}{\\text{Property}}$: Denote $\\Gamma$ the (infinite dimensional) Lie group of reparameterizations of $D$. Changing the parameterization of the surface $f$ by applying $f \\circ \\gamma$ for $\\gamma \\in \\Gamma$ is equivalent to changing its SNRF as $(q \\circ \\gamma) \\sqrt{\\det J_\\gamma}$ where $J_\\gamma$ is the Jacobian of $\\gamma$.\n",
    "\n",
    "\n",
    "$\\color{#EF5645}{\\text{Remark}}$: This is harder to visualize, because $\\Gamma$ is infinite dimensional.\n",
    "\n",
    "<center><img src=\"figs/02_orbits_sphere.png\" width=300px alt=\"default\"/></center>\n",
    "<center>Schematic illustration of the orbits of $\\Gamma$ on the preshape (infinite dimensional) hypersphere, represented as orbits of $SO(2)$ on the 2D sphere for convenience.</center>"
   ]
  },
  {
   "cell_type": "markdown",
   "id": "5340ca75",
   "metadata": {
    "slideshow": {
     "slide_type": "slide"
    }
   },
   "source": [
    "### What is the \"SRNF Quotient\"?\n",
    "\n",
    "\n",
    "$\\color{#EF5645}{\\text{Definition}}$: The _SRNF quotient space_ $\\mathcal{Q}$ is the preshape space of surfaces for which the actions of rotations and reparameterizations are removed together. \n",
    "\n",
    "The geodesic distance between any two elements $\\tilde q_a, \\tilde q_b$ in the quotient SRNF space $\\mathcal{Q}$ is given by the distance between the optimally aligned elements $q_a, q_b$ of the preshape space $S$.\n",
    "$$\n",
    "d_{Q}\\left(\\tilde q_a,\\tilde q_b\\right)=\\inf _{(\\gamma, R) \\in \\Gamma \\times SO(3)} d_{S}\\left(q_{a}, R\\left(q_{b} \\circ \\gamma\\right) \\sqrt{\\det J_\\gamma}\\right)\n",
    "$$\n"
   ]
  },
  {
   "cell_type": "markdown",
   "id": "cc321916",
   "metadata": {
    "slideshow": {
     "slide_type": "slide"
    }
   },
   "source": [
    "The distance given by this geodesic is independent of the rotations and reparameterizations of both skulls.\n",
    "\n",
    "<center><img src=\"figs/02_skull_geod.png\" width=1600px alt=\"default\"/></center>"
   ]
  },
  {
   "cell_type": "markdown",
   "id": "7f4d237e",
   "metadata": {
    "slideshow": {
     "slide_type": "slide"
    }
   },
   "source": [
    "## Take-Aways: Curves and Surfaces\n",
    "\n",
    "Analyzing shapes of curves and surfaces applies the same strategy:\n",
    "- Align curves/surfaces in translation, scaling\n",
    "- Compute their SRV/SNRF transform and align in reparameterization and rotations\n",
    "- Use the Riemannian metric of the hypersphere in which they belong (even after alignment)."
   ]
  },
  {
   "cell_type": "markdown",
   "id": "68aa7d55",
   "metadata": {
    "slideshow": {
     "slide_type": "skip"
    }
   },
   "source": [
    "### Bonus: Link with Elastic Metric\n",
    "\n",
    "$\\color{#EF5645}{\\text{Definition}}$: The elastic metric $<, >_\\beta$ on curves has bending and stretching terms:\n",
    "$$\n",
    "<h, k>_\\beta= \\int_{[0, 1]}\\left\\langle D_{t} h, N\\right\\rangle\\left\\langle D_{t} k, N\\right\\rangle dt +\\frac{1}{4} \\int_{[0, 1]}\\left\\langle D_{t} h, T\\right\\rangle\\left\\langle D_{t} k, T\\right\\rangle dt,\n",
    "$$\n",
    "where:\n",
    "- $h, k$ are two tangent vectors to the space of curves at $\\beta$, \n",
    "- $D_{t}=\\frac{1}{\\left\\|\\dot \\beta(t)\\right\\|} \\frac{d}{d t}$: derivative with respect to the arc length,\n",
    "- $N$ and $T$: the local unit normal and tangent from a moving frame associated with $\\beta$.\n",
    "\n",
    "<center><img src=\"figs/02_elastic_metric.png\" width=400px alt=\"default\"/></center>"
   ]
  },
  {
   "cell_type": "markdown",
   "id": "debf6e2d",
   "metadata": {
    "slideshow": {
     "slide_type": "skip"
    }
   },
   "source": [
    "$\\color{#EF5645}{\\text{Definition}}$: The elastic Riemannian metric $<, >_f$ on surfaces has a similar expression."
   ]
  },
  {
   "cell_type": "markdown",
   "id": "3d2d2762",
   "metadata": {
    "slideshow": {
     "slide_type": "slide"
    }
   },
   "source": [
    "# Outline\n",
    "\n",
    "- **Unit 2 (Shapes): Computational Representations of Biomedical Shapes**\n",
    "  - A) Shapes of landmarks\n",
    "  - B) Shapes of curves\n",
    "  - **C) Shapes of surfaces**\n",
    "    - Motivation: Shape of Skulls in Paleontology\n",
    "    - Practice: Analysis in Quotient SRNF space\n",
    "    - Theory: Geometry of SNRF manifolds\n",
    "  - D) Deformations"
   ]
  }
 ],
 "metadata": {
  "celltoolbar": "Slideshow",
  "kernelspec": {
   "display_name": "Python 3 (ipykernel)",
   "language": "python",
   "name": "python3"
  },
  "language_info": {
   "codemirror_mode": {
    "name": "ipython",
    "version": 3
   },
   "file_extension": ".py",
   "mimetype": "text/x-python",
   "name": "python",
   "nbconvert_exporter": "python",
   "pygments_lexer": "ipython3",
   "version": "3.8.15"
  }
 },
 "nbformat": 4,
 "nbformat_minor": 5
}
