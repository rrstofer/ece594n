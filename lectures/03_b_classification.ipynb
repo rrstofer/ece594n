{
 "cells": [
  {
   "cell_type": "markdown",
   "id": "83fc4529",
   "metadata": {
    "slideshow": {
     "slide_type": "slide"
    }
   },
   "source": [
    "# 03 Geometric Machine Learning for Shapes\n",
    "\n",
    "## B) Supervised Learning: Classification\n",
    "\n",
    "$\\color{#003660}{\\text{Nina Miolane - Assistant Professor}}$ @ BioShape Lab @ UCSB ECE"
   ]
  },
  {
   "cell_type": "markdown",
   "id": "6336f276",
   "metadata": {
    "cell_style": "center"
   },
   "source": [
    "<center><img src=\"figs/03_class_header.png\" width=650px alt=\"default\"/></center>"
   ]
  },
  {
   "cell_type": "markdown",
   "id": "8c9d812f",
   "metadata": {
    "slideshow": {
     "slide_type": "slide"
    }
   },
   "source": [
    "# This Unit\n",
    "\n",
    "- **Unit 3 (Machine Learning): Geometric Machine Learning for Shapes**\n",
    "  - A) Mean and Covariance\n",
    "  - **B) Classification**\n",
    "  - C) Regression\n",
    "  - D) Clustering\n",
    "  - E) Dimension Reduction"
   ]
  },
  {
   "cell_type": "markdown",
   "id": "55f194a7",
   "metadata": {
    "slideshow": {
     "slide_type": "slide"
    }
   },
   "source": [
    "### Supervised Learning in ML\n",
    "\n",
    "Machine Learning is divided into two principal categories of algorithms: supervised and unsupervised learning algorithms. Both learn from data.\n",
    "\n",
    "$\\color{#EF5645}{\\text{Definition}}$: _Supervised learning_ refers to the task of learning a function that maps an input $X$ to an output $Y$ based on example input-output pairs. We say that the method is:\n",
    "- a _classification_ if the outputs are categorical,\n",
    "- a _regression_ if the outputs are quantitative.\n",
    "\n",
    "<center><img src=\"figs/03_sl2.png\" width=900px alt=\"default\"/></center>\n",
    "<center>Supervised Learning</center>"
   ]
  },
  {
   "cell_type": "markdown",
   "id": "134a4187",
   "metadata": {
    "slideshow": {
     "slide_type": "slide"
    }
   },
   "source": [
    "### Review of Traditional Classification\n",
    "\n",
    "$\\color{#EF5645}{\\text{Given data}}$:\n",
    "- $(X_1, ..., X_n)$: \n",
    "  - inputs, e.g. brain shapes for different subjects.\n",
    "- $(y_1, ..., y_n)$: \n",
    "  - outputs (\"labels\") in $\\{0, 1\\}$, e.g. if shizophrenia (1 - red) or not (0 - blue).\n",
    "\n",
    "<center><img src=\"figs/03_class.png\" width=250px alt=\"default\"/></center>\n",
    "<center>Inputs: $X_1, ..., X_n \\in \\mathbb{R}^2$. Outputs: $y_1, ..., y_n$ represented as colors.</center>\n",
    "\n",
    "$\\rightarrow \\color{#EF5645}{\\text{Goal}}$: Build $f$ that predicts if a brain shows shizophrenia from new $X_\\text{new}.$\n"
   ]
  },
  {
   "cell_type": "markdown",
   "id": "ee842df6",
   "metadata": {
    "slideshow": {
     "slide_type": "slide"
    }
   },
   "source": [
    "### Review of Traditional Classification: 4 Steps\n",
    "\n",
    "\n",
    "1. $\\color{#EF5645}{\\text{Modeling:}}$\n",
    "- $\\color{#EF5645}{\\text{Decide on the function $f_\\theta$:}}$ that outputs $\\hat y = f_\\theta(X)$: prediction for $y$.\n",
    "  - Note the difference between $y$ and $\\hat y$:\n",
    "  - $y$: ground truth, e.g. if $X$ is truly schizophrenic (y=1) or not (y=0)\n",
    "  - $\\hat y = f_\\theta(X)$: model's prediction.\n",
    "- $\\color{#EF5645}{\\text{Decide on a loss function:}}$ $L(y, \\hat y)$ that evaluates if the model is right or wrong.\n",
    "\n",
    "\n",
    "$\\color{#047C91}{\\text{Example}}$: \n",
    "- The model $f_\\theta(X) = \\theta_0 + \\theta_1 X$ has parameters $\\theta=(\\theta_0, \\theta_1)$.\n",
    "- The loss function $L(y, \\hat y) = I(y = \\hat y)$ with $I$ the indicator function, is 0 if the prediction is false, and -1 if it is correct.\n",
    "\n"
   ]
  },
  {
   "cell_type": "markdown",
   "id": "394c7118",
   "metadata": {
    "slideshow": {
     "slide_type": "slide"
    }
   },
   "source": [
    "2. $\\color{#EF5645}{\\text{Split dataset into train / test sets:}}$ \n",
    "   - Train $(X_1, y_1), ..., (X_{n_\\text{train}}, y_{n_\\text{train}})$: build the algorithm\n",
    "   - Test $(X_{n_\\text{train}+1}, y_{n_\\text{train}+1}), ..., (X_n, y_n)$: assess its performances.\n",
    "   \n",
    "3. $\\color{#EF5645}{\\text{Train:}}$ Build the algorithm\n",
    "   - Also called: \"Fitting the model's parameters $\\theta$.\"\n",
    "   - Find $\\theta^*$ such that the model predicts the train set best: \n",
    "   $$\\theta^* = \\text{argmin}_\\theta \\sum_{i=1}^{n_\\text{train}} L(y_i, f_\\theta(X_i))$$\n",
    "   \n",
    "4. $\\color{#EF5645}{\\text{Test:}}$ Assess its performances: \n",
    "   - Loss on test set: $\\sum_{i=n_\\text{train}+1}^{n} L(y_i, f_{\\theta^*}(X_i))$"
   ]
  },
  {
   "cell_type": "markdown",
   "id": "d72547b0",
   "metadata": {
    "slideshow": {
     "slide_type": "slide"
    }
   },
   "source": [
    "# This Unit\n",
    "\n",
    "- **Unit 3 (Machine Learning): Geometric Machine Learning for Shapes**\n",
    "  - A) Mean and Covariance\n",
    "  - **B) Classification**\n",
    "    - Motivation: Shape of Schizophrenia\n",
    "    - Classification Method 1: Tangent ML\n",
    "    - Classification Method 2: Minimum Distance to Mean\n",
    "  - C) Regression\n",
    "  - D) Clustering\n",
    "  - E) Dimension Reduction"
   ]
  },
  {
   "cell_type": "markdown",
   "id": "b49df37a",
   "metadata": {
    "slideshow": {
     "slide_type": "slide"
    }
   },
   "source": [
    "# Motivation: Classification of Schizophrenia"
   ]
  },
  {
   "cell_type": "markdown",
   "id": "ef214734",
   "metadata": {
    "slideshow": {
     "slide_type": "slide"
    }
   },
   "source": [
    "## Brain Shapes: White Matter\n",
    "\n",
    "White matter is referred to as the \"highway of the brain\", it transports the information.\n",
    "\n"
   ]
  },
  {
   "cell_type": "markdown",
   "id": "39eb7764",
   "metadata": {
    "cell_style": "split",
    "slideshow": {
     "slide_type": "-"
    }
   },
   "source": [
    "<center><img src=\"figs/03_subway_brain.jpeg\" width=400px alt=\"default\"/></center>"
   ]
  },
  {
   "cell_type": "markdown",
   "id": "1fbf7353",
   "metadata": {
    "cell_style": "split"
   },
   "source": [
    "<center><img src=\"figs/03_white_tracks.jpeg\" width=400px alt=\"default\"/></center>"
   ]
  },
  {
   "cell_type": "markdown",
   "id": "963d1db7",
   "metadata": {
    "slideshow": {
     "slide_type": "slide"
    }
   },
   "source": [
    "$\\color{#EF5645}{\\text{What is White Matter}}$: \n",
    "- White matter: deep parts of the brain. \n",
    "- Unlike gray matter, which peaks in development when we are 11 or 12 years old, white matter keeps developing well into our 20s (and perhaps, in more subtle ways, into our 50s).\n",
    "- White matter consists of bundles of axons, or tracts, which are the long, slender projections of nerve cells."
   ]
  },
  {
   "cell_type": "markdown",
   "id": "329ebae6",
   "metadata": {
    "slideshow": {
     "slide_type": "slide"
    }
   },
   "source": [
    "## Structural Connectome vs Functional Connectomes\n",
    "\n",
    "Assume that the brain is divided into N brain areas.\n",
    "\n",
    "<center><img src=\"figs/03_parcellation.png\" width=350px alt=\"default\"/></center>\n",
    "\n",
    "$\\color{#EF5645}{\\text{Definitions}}$:\n",
    "- Structural connectome: how areas are \"structurally\" connected\n",
    "  - i.e. how many fiber tracks link two areas (shapes).\n",
    "- Functional connectome: how areas are \"functionally\" connected\n",
    "  - i.e. whether one area co-activates with another area.\n",
    "\n",
    "We use the functional connectomes in what follows, but they are correlated with the structural connectome, i.e. the shape of the white fiber tracks."
   ]
  },
  {
   "cell_type": "markdown",
   "id": "f833908b",
   "metadata": {
    "slideshow": {
     "slide_type": "slide"
    }
   },
   "source": [
    "### Motivation: Shape of Schizophrenia\n",
    "\n",
    "$\\color{#EF5645}{\\text{Question}}$: Given labeled functional connectomes of several subjects, can we predict if a new subject has schizophrenia?\n",
    "\n",
    "$\\color{#EF5645}{\\text{Approach}}$: Classification on manifold:\n",
    "- input: X = one connectome: is a SPD matrix, i.e. an element of SPD manifold\n",
    "- output: y is either 0 (healthy control) or 1 (schizophrenia)\n"
   ]
  },
  {
   "cell_type": "markdown",
   "id": "403782ef",
   "metadata": {
    "slideshow": {
     "slide_type": "slide"
    }
   },
   "source": [
    "### Data\n",
    "\n",
    "We have:\n",
    "- 86 connectomes from 86 subjects.\n",
    "- Among them, 46 are from healthy controls and 40 from schizophrenic subjects."
   ]
  },
  {
   "cell_type": "code",
   "execution_count": 15,
   "id": "59cd9956",
   "metadata": {},
   "outputs": [],
   "source": [
    "import numpy as np\n",
    "import matplotlib.pyplot as plt"
   ]
  },
  {
   "cell_type": "code",
   "execution_count": 18,
   "id": "ee78b767",
   "metadata": {},
   "outputs": [
    {
     "name": "stdout",
     "output_type": "stream",
     "text": [
      "There are 86 connectomes: 46 healthy controls and 40 schizophrenic patients.\n"
     ]
    }
   ],
   "source": [
    "import geomstats.datasets.utils as data_utils\n",
    "\n",
    "data, _, labels = data_utils.load_connectomes()\n",
    "print(f\"There are {len(data)} connectomes:\"\n",
    "      f\" {sum(labels==0)} healthy controls and {sum(labels==1)} schizophrenic patients.\") "
   ]
  },
  {
   "cell_type": "markdown",
   "id": "a62b0bd6",
   "metadata": {
    "slideshow": {
     "slide_type": "slide"
    }
   },
   "source": [
    "Plot two first connectomes: \n",
    "- the brains have been divided in 28 areas\n",
    "- the connectomes are 28 x 28 matrices that are symmetric.\n",
    "  - quantifies how much area $i$ is co-activated with area $j$."
   ]
  },
  {
   "cell_type": "code",
   "execution_count": 19,
   "id": "89100639",
   "metadata": {},
   "outputs": [
    {
     "data": {
      "image/png": "[encoded data removed]",
      "text/plain": [
       "<Figure size 800x400 with 2 Axes>"
      ]
     },
     "metadata": {},
     "output_type": "display_data"
    }
   ],
   "source": [
    "labels_str = [\"Healthy\", \"Schizophrenic\"]\n",
    "\n",
    "fig = plt.figure(figsize=(8, 4))\n",
    "ax = fig.add_subplot(121)\n",
    "imgplot = ax.imshow(data[0]); ax.set_title(labels_str[labels[0]])\n",
    "ax = fig.add_subplot(122)\n",
    "imgplot = ax.imshow(data[1]); ax.set_title(labels_str[labels[1]])\n",
    "plt.show()"
   ]
  },
  {
   "cell_type": "markdown",
   "id": "eead164f",
   "metadata": {
    "slideshow": {
     "slide_type": "slide"
    }
   },
   "source": [
    "We verify that the connectomes in `data` belong to the manifold of SPD matrices."
   ]
  },
  {
   "cell_type": "code",
   "execution_count": 20,
   "id": "27ee472d",
   "metadata": {},
   "outputs": [
    {
     "data": {
      "text/plain": [
       "array([ True,  True,  True,  True,  True,  True,  True,  True,  True,\n",
       "        True,  True,  True,  True,  True,  True,  True,  True,  True,\n",
       "        True,  True,  True,  True,  True,  True,  True,  True,  True,\n",
       "        True,  True,  True,  True,  True,  True,  True,  True,  True,\n",
       "        True,  True,  True,  True,  True,  True,  True,  True,  True,\n",
       "        True,  True,  True,  True,  True,  True,  True,  True,  True,\n",
       "        True,  True,  True,  True,  True,  True,  True,  True,  True,\n",
       "        True,  True,  True,  True,  True,  True,  True,  True,  True,\n",
       "        True,  True,  True,  True,  True,  True,  True,  True,  True,\n",
       "        True,  True,  True,  True,  True])"
      ]
     },
     "execution_count": 20,
     "metadata": {},
     "output_type": "execute_result"
    }
   ],
   "source": [
    "from geomstats.geometry.spd_matrices import SPDMatrices\n",
    "\n",
    "spd_manifold = SPDMatrices(n=28)\n",
    "spd_manifold.belongs(data)"
   ]
  },
  {
   "cell_type": "markdown",
   "id": "6e6dcbad",
   "metadata": {
    "slideshow": {
     "slide_type": "slide"
    }
   },
   "source": [
    "## Classification Method 1: Tangent Machine Learning"
   ]
  },
  {
   "cell_type": "markdown",
   "id": "178c1e98",
   "metadata": {
    "slideshow": {
     "slide_type": "slide"
    }
   },
   "source": [
    "### Recall: Tangent Space at the Fréchet Mean\n",
    "\n",
    "The Fréchet mean gives us a way of transforming our non-linear data into vectors!\n",
    "1. Compute the Fréchet mean $\\bar{x}$ of the data points\n",
    "2. Consider the tangent space $T_\\bar{x}M$of the manifold $M$ at $\\bar{x}$\n",
    "3. Compute the Logarithms of the data points at $\\bar{x}$\n",
    "\n",
    "$\\rightarrow$ Get a dataset on a vector space, and apply classical machine learning on it.\n",
    "\n",
    "$\\color{#EF5645}{\\text{In practice}}$: \n",
    "- Either use `FrechetMean` and `metric.log` methods.\n",
    "- Or `ToTangentSpace` does both."
   ]
  },
  {
   "cell_type": "markdown",
   "id": "47c6fd2e",
   "metadata": {
    "slideshow": {
     "slide_type": "slide"
    }
   },
   "source": [
    "1. Modelling\n",
    "\n",
    "- $\\color{#EF5645}{\\text{Decide on the model:}}$ Function $f_\\theta$, that outputs $\\hat y = f_\\theta(X)$: prediction for $y$.\n",
    "- $\\color{#EF5645}{\\text{Decide on a loss function:}}$ $L(y, \\hat y)$ that evaluates if the model is right or wrong.\n",
    "\n",
    "$\\color{#047C91}{\\text{Example}}$: \n",
    "- Use `ToTangentSpace`.\n",
    "- Use any classifier from `scikit-learn`, e.g. `LogisticRegression`.\n",
    "  - `LogisticRegression` comes with its loss function."
   ]
  },
  {
   "cell_type": "code",
   "execution_count": 22,
   "id": "9e0a6432",
   "metadata": {},
   "outputs": [],
   "source": [
    "from geomstats.learning.preprocessing import ToTangentSpace\n",
    "from sklearn.pipeline import Pipeline\n",
    "from sklearn.linear_model import LogisticRegression\n",
    "\n",
    "lr_pipeline = Pipeline(\n",
    "    steps=[\n",
    "        (\"trick_tangent_space\", ToTangentSpace(geometry=spd_manifold.metric)),\n",
    "        (\"classifier\", LogisticRegression(C=2)),\n",
    "    ]\n",
    ")"
   ]
  },
  {
   "cell_type": "markdown",
   "id": "9dfbab7d",
   "metadata": {
    "slideshow": {
     "slide_type": "slide"
    }
   },
   "source": [
    "2. $\\color{#EF5645}{\\text{Split dataset into train / test sets:}}$ \n",
    "   - Train $(X_1, y_1), ..., (X_{n_\\text{train}}, y_{n_\\text{train}})$: build the algorithm\n",
    "   - Test $(X_{n_\\text{train}+1}, y_{n_\\text{train}+1}), ..., (X_n, y_n)$: assess its performances."
   ]
  },
  {
   "cell_type": "code",
   "execution_count": 24,
   "id": "818e1ff8",
   "metadata": {
    "slideshow": {
     "slide_type": "-"
    }
   },
   "outputs": [
    {
     "name": "stdout",
     "output_type": "stream",
     "text": [
      "The dataset has 86 connectomes.\n",
      "The train set has 64 connectomes.\n",
      "The test set has 22 connectomes.\n"
     ]
    }
   ],
   "source": [
    "from sklearn.model_selection import train_test_split\n",
    "\n",
    "X = data; y = labels\n",
    "X_train, X_test, y_train, y_test = train_test_split(X, y)\n",
    "\n",
    "print(f\"The dataset has {len(X)} connectomes.\")\n",
    "print(f\"The train set has {len(X_train)} connectomes.\")\n",
    "print(f\"The test set has {len(X_test)} connectomes.\")"
   ]
  },
  {
   "cell_type": "markdown",
   "id": "fd08050c",
   "metadata": {
    "slideshow": {
     "slide_type": "slide"
    }
   },
   "source": [
    "3. $\\color{#EF5645}{\\text{Train:}}$ Build the algorithm\n",
    "   - Also called: \"Fitting the model's parameters $\\theta$.\"\n",
    "   - Find $\\theta^*$ such that the model predicts the train set best: \n",
    "   $$\\theta^* = \\text{argmin}_\\theta \\sum_{i=1}^{n_\\text{train}} L(y_i, f_\\theta(X_i))$$"
   ]
  },
  {
   "cell_type": "code",
   "execution_count": 25,
   "id": "e790f68c",
   "metadata": {
    "slideshow": {
     "slide_type": "-"
    }
   },
   "outputs": [
    {
     "data": {
      "text/html": [
       "<style>#sk-container-id-2 {color: black;background-color: white;}#sk-container-id-2 pre{padding: 0;}#sk-container-id-2 div.sk-toggleable {background-color: white;}#sk-container-id-2 label.sk-toggleable__label {cursor: pointer;display: block;width: 100%;margin-bottom: 0;padding: 0.3em;box-sizing: border-box;text-align: center;}#sk-container-id-2 label.sk-toggleable__label-arrow:before {content: \"▸\";float: left;margin-right: 0.25em;color: #696969;}#sk-container-id-2 label.sk-toggleable__label-arrow:hover:before {color: black;}#sk-container-id-2 div.sk-estimator:hover label.sk-toggleable__label-arrow:before {color: black;}#sk-container-id-2 div.sk-toggleable__content {max-height: 0;max-width: 0;overflow: hidden;text-align: left;background-color: #f0f8ff;}#sk-container-id-2 div.sk-toggleable__content pre {margin: 0.2em;color: black;border-radius: 0.25em;background-color: #f0f8ff;}#sk-container-id-2 input.sk-toggleable__control:checked~div.sk-toggleable__content {max-height: 200px;max-width: 100%;overflow: auto;}#sk-container-id-2 input.sk-toggleable__control:checked~label.sk-toggleable__label-arrow:before {content: \"▾\";}#sk-container-id-2 div.sk-estimator input.sk-toggleable__control:checked~label.sk-toggleable__label {background-color: #d4ebff;}#sk-container-id-2 div.sk-label input.sk-toggleable__control:checked~label.sk-toggleable__label {background-color: #d4ebff;}#sk-container-id-2 input.sk-hidden--visually {border: 0;clip: rect(1px 1px 1px 1px);clip: rect(1px, 1px, 1px, 1px);height: 1px;margin: -1px;overflow: hidden;padding: 0;position: absolute;width: 1px;}#sk-container-id-2 div.sk-estimator {font-family: monospace;background-color: #f0f8ff;border: 1px dotted black;border-radius: 0.25em;box-sizing: border-box;margin-bottom: 0.5em;}#sk-container-id-2 div.sk-estimator:hover {background-color: #d4ebff;}#sk-container-id-2 div.sk-parallel-item::after {content: \"\";width: 100%;border-bottom: 1px solid gray;flex-grow: 1;}#sk-container-id-2 div.sk-label:hover label.sk-toggleable__label {background-color: #d4ebff;}#sk-container-id-2 div.sk-serial::before {content: \"\";position: absolute;border-left: 1px solid gray;box-sizing: border-box;top: 0;bottom: 0;left: 50%;z-index: 0;}#sk-container-id-2 div.sk-serial {display: flex;flex-direction: column;align-items: center;background-color: white;padding-right: 0.2em;padding-left: 0.2em;position: relative;}#sk-container-id-2 div.sk-item {position: relative;z-index: 1;}#sk-container-id-2 div.sk-parallel {display: flex;align-items: stretch;justify-content: center;background-color: white;position: relative;}#sk-container-id-2 div.sk-item::before, #sk-container-id-2 div.sk-parallel-item::before {content: \"\";position: absolute;border-left: 1px solid gray;box-sizing: border-box;top: 0;bottom: 0;left: 50%;z-index: -1;}#sk-container-id-2 div.sk-parallel-item {display: flex;flex-direction: column;z-index: 1;position: relative;background-color: white;}#sk-container-id-2 div.sk-parallel-item:first-child::after {align-self: flex-end;width: 50%;}#sk-container-id-2 div.sk-parallel-item:last-child::after {align-self: flex-start;width: 50%;}#sk-container-id-2 div.sk-parallel-item:only-child::after {width: 0;}#sk-container-id-2 div.sk-dashed-wrapped {border: 1px dashed gray;margin: 0 0.4em 0.5em 0.4em;box-sizing: border-box;padding-bottom: 0.4em;background-color: white;}#sk-container-id-2 div.sk-label label {font-family: monospace;font-weight: bold;display: inline-block;line-height: 1.2em;}#sk-container-id-2 div.sk-label-container {text-align: center;}#sk-container-id-2 div.sk-container {/* jupyter's `normalize.less` sets `[hidden] { display: none; }` but bootstrap.min.css set `[hidden] { display: none !important; }` so we also need the `!important` here to be able to override the default hidden behavior on the sphinx rendered scikit-learn.org. See: https://github.com/scikit-learn/scikit-learn/issues/21755 */display: inline-block !important;position: relative;}#sk-container-id-2 div.sk-text-repr-fallback {display: none;}</style><div id=\"sk-container-id-2\" class=\"sk-top-container\"><div class=\"sk-text-repr-fallback\"><pre>Pipeline(steps=[(&#x27;trick_tangent_space&#x27;,\n",
       "                 ToTangentSpace(geometry=&lt;geomstats.geometry.spd_matrices.SPDAffineMetric object at 0x7fe639e1d9a0&gt;)),\n",
       "                (&#x27;classifier&#x27;, LogisticRegression(C=2))])</pre><b>In a Jupyter environment, please rerun this cell to show the HTML representation or trust the notebook. <br />On GitHub, the HTML representation is unable to render, please try loading this page with nbviewer.org.</b></div><div class=\"sk-container\" hidden><div class=\"sk-item sk-dashed-wrapped\"><div class=\"sk-label-container\"><div class=\"sk-label sk-toggleable\"><input class=\"sk-toggleable__control sk-hidden--visually\" id=\"sk-estimator-id-4\" type=\"checkbox\" ><label for=\"sk-estimator-id-4\" class=\"sk-toggleable__label sk-toggleable__label-arrow\">Pipeline</label><div class=\"sk-toggleable__content\"><pre>Pipeline(steps=[(&#x27;trick_tangent_space&#x27;,\n",
       "                 ToTangentSpace(geometry=&lt;geomstats.geometry.spd_matrices.SPDAffineMetric object at 0x7fe639e1d9a0&gt;)),\n",
       "                (&#x27;classifier&#x27;, LogisticRegression(C=2))])</pre></div></div></div><div class=\"sk-serial\"><div class=\"sk-item\"><div class=\"sk-estimator sk-toggleable\"><input class=\"sk-toggleable__control sk-hidden--visually\" id=\"sk-estimator-id-5\" type=\"checkbox\" ><label for=\"sk-estimator-id-5\" class=\"sk-toggleable__label sk-toggleable__label-arrow\">ToTangentSpace</label><div class=\"sk-toggleable__content\"><pre>ToTangentSpace(geometry=&lt;geomstats.geometry.spd_matrices.SPDAffineMetric object at 0x7fe639e1d9a0&gt;)</pre></div></div></div><div class=\"sk-item\"><div class=\"sk-estimator sk-toggleable\"><input class=\"sk-toggleable__control sk-hidden--visually\" id=\"sk-estimator-id-6\" type=\"checkbox\" ><label for=\"sk-estimator-id-6\" class=\"sk-toggleable__label sk-toggleable__label-arrow\">LogisticRegression</label><div class=\"sk-toggleable__content\"><pre>LogisticRegression(C=2)</pre></div></div></div></div></div></div></div>"
      ],
      "text/plain": [
       "Pipeline(steps=[('trick_tangent_space',\n",
       "                 ToTangentSpace(geometry=<geomstats.geometry.spd_matrices.SPDAffineMetric object at 0x7fe639e1d9a0>)),\n",
       "                ('classifier', LogisticRegression(C=2))])"
      ]
     },
     "execution_count": 25,
     "metadata": {},
     "output_type": "execute_result"
    }
   ],
   "source": [
    "lr_pipeline.fit(X_train, y_train)"
   ]
  },
  {
   "cell_type": "markdown",
   "id": "c5047ce3",
   "metadata": {
    "slideshow": {
     "slide_type": "slide"
    }
   },
   "source": [
    "4. $\\color{#EF5645}{\\text{Test:}}$ Assess its performances: \n",
    "   - Loss on test set: $\\sum_{i=n_\\text{train}+1}^{n} L(y_i, f_\\theta(X_i))$"
   ]
  },
  {
   "cell_type": "code",
   "execution_count": 26,
   "id": "62d762a8",
   "metadata": {},
   "outputs": [
    {
     "name": "stdout",
     "output_type": "stream",
     "text": [
      "We get an accuracy of 0.77.\n"
     ]
    }
   ],
   "source": [
    "print(f\"We get an accuracy of {lr_pipeline.score(X_test, y_test):.2f}.\")"
   ]
  },
  {
   "cell_type": "markdown",
   "id": "e9ddef1b",
   "metadata": {
    "slideshow": {
     "slide_type": "slide"
    }
   },
   "source": [
    "Recall our question.\n",
    "\n",
    "$\\color{#EF5645}{\\text{Question}}$: Given labeled functional connectomes of several subjects, can we predict if a new subject has schizophrenia?\n",
    "\n",
    "We can use the fitted model to make new predictions."
   ]
  },
  {
   "cell_type": "code",
   "execution_count": 27,
   "id": "8ec70c23",
   "metadata": {
    "scrolled": false
   },
   "outputs": [
    {
     "data": {
      "text/plain": [
       "['Healthy',\n",
       " 'Healthy',\n",
       " 'Healthy',\n",
       " 'Schizophrenic',\n",
       " 'Schizophrenic',\n",
       " 'Schizophrenic',\n",
       " 'Schizophrenic',\n",
       " 'Schizophrenic',\n",
       " 'Schizophrenic',\n",
       " 'Healthy',\n",
       " 'Schizophrenic',\n",
       " 'Schizophrenic',\n",
       " 'Schizophrenic',\n",
       " 'Healthy',\n",
       " 'Healthy',\n",
       " 'Healthy',\n",
       " 'Healthy',\n",
       " 'Healthy',\n",
       " 'Healthy',\n",
       " 'Schizophrenic',\n",
       " 'Schizophrenic',\n",
       " 'Schizophrenic']"
      ]
     },
     "execution_count": 27,
     "metadata": {},
     "output_type": "execute_result"
    }
   ],
   "source": [
    "[labels_str[i] for i in lr_pipeline.predict(X_test)]"
   ]
  },
  {
   "cell_type": "markdown",
   "id": "afdcc4f2",
   "metadata": {
    "slideshow": {
     "slide_type": "slide"
    }
   },
   "source": [
    "$\\color{#EF5645}{\\text{Remark}}$: We can use any classifier available in `scikit-learn`: not necessarily the `LogisticRegression` classifier.\n",
    "\n",
    "$\\color{#047C91}{\\text{Example}}$: Re-run the methods with a new classifier, e.g. \"SVC\" which stands for Support Vector Classifier, which is another classifier."
   ]
  },
  {
   "cell_type": "code",
   "execution_count": 28,
   "id": "173d0dbd",
   "metadata": {},
   "outputs": [
    {
     "name": "stdout",
     "output_type": "stream",
     "text": [
      "We get an accuracy of 0.82.\n"
     ]
    }
   ],
   "source": [
    "from sklearn.svm import SVC\n",
    "\n",
    "svc_pipeline = Pipeline(\n",
    "    steps=[\n",
    "        (\"trick_tangent_space\", ToTangentSpace(geometry=spd_manifold.metric)),\n",
    "        (\"classifier\", SVC(C=1.)),\n",
    "    ]\n",
    ")\n",
    "\n",
    "svc_pipeline.fit(X_train, y_train)\n",
    "print(f\"We get an accuracy of {svc_pipeline.score(X_test, y_test):.2f}.\")"
   ]
  },
  {
   "cell_type": "markdown",
   "id": "90c75d48",
   "metadata": {},
   "source": [
    "Here, accuracy is comparable than with logistic regression."
   ]
  },
  {
   "cell_type": "markdown",
   "id": "e176d82b",
   "metadata": {
    "slideshow": {
     "slide_type": "slide"
    }
   },
   "source": [
    "## Classification Method 2: Minimum Distance to Mean"
   ]
  },
  {
   "cell_type": "markdown",
   "id": "77de8634",
   "metadata": {
    "slideshow": {
     "slide_type": "slide"
    }
   },
   "source": [
    "### Why another classification method?\n",
    "\n",
    "$\\color{#EF5645}{\\text{Previous subsection}}$: Classification Method 1:\n",
    "- \"Project\" data on the tangent space at the FrechetMean: `ToTangentSpace`.\n",
    "- Apply any traditional classification algorithm: e.g. `LogisticRegression` or `SVC`.\n",
    "\n",
    "$\\color{#EF5645}{\\text{This subsection}}$: Classification Method 2:\n",
    "- Keep data on the manifold"
   ]
  },
  {
   "cell_type": "markdown",
   "id": "584c86ca",
   "metadata": {
    "slideshow": {
     "slide_type": "slide"
    }
   },
   "source": [
    "## Minimum Distance to Mean\n",
    "\n",
    "\n",
    "General idea:\n",
    "- Train: Compute the mean of each class, in the train set using `FrechetMean`.\n",
    "- Test: Give label of the class whose mean is the \"closest\" to the new data point, using `metric.dist`.\n",
    "\n",
    "<center><img src=\"figs/03_mdm.png\" width=600px alt=\"default\"/></center>"
   ]
  },
  {
   "cell_type": "markdown",
   "id": "8588659e",
   "metadata": {
    "slideshow": {
     "slide_type": "slide"
    }
   },
   "source": [
    "1. Modeling\n",
    "- $\\color{#EF5645}{\\text{Decide on the model:}}$ Function $f_\\theta$, that outputs $\\hat y = f_\\theta(X)$: prediction for $y$.\n",
    "- $\\color{#EF5645}{\\text{Decide on a loss function:}}$ $L(y, \\hat y)$ that evaluates if the model is right or wrong.\n",
    "  - `RiemannianMinimumDistanceToMean` comes with its loss function."
   ]
  },
  {
   "cell_type": "code",
   "execution_count": 29,
   "id": "bf73b556",
   "metadata": {
    "slideshow": {
     "slide_type": "-"
    }
   },
   "outputs": [],
   "source": [
    "from geomstats.learning.mdm import RiemannianMinimumDistanceToMean\n",
    "\n",
    "mdm = RiemannianMinimumDistanceToMean(\n",
    "    riemannian_metric=spd_manifold.metric)"
   ]
  },
  {
   "cell_type": "markdown",
   "id": "3895798c",
   "metadata": {
    "slideshow": {
     "slide_type": "slide"
    }
   },
   "source": [
    "3. $\\color{#EF5645}{\\text{Train:}}$ Build the algorithm\n",
    "   - Also called: \"Fitting the model's parameters $\\theta$.\"\n",
    "   - Here: compute the Fréchet means of each class (two classes)."
   ]
  },
  {
   "cell_type": "code",
   "execution_count": 30,
   "id": "4d6458f2",
   "metadata": {},
   "outputs": [],
   "source": [
    "mdm.fit(X_train, y_train)"
   ]
  },
  {
   "cell_type": "markdown",
   "id": "0c0b89a4",
   "metadata": {
    "slideshow": {
     "slide_type": "slide"
    }
   },
   "source": [
    "4. $\\color{#EF5645}{\\text{Test:}}$ Assess its performances: \n",
    "   - Loss on test set: $\\sum_{i=n_\\text{train}+1}^{n} L(y_i, f_\\theta(X_i))$"
   ]
  },
  {
   "cell_type": "code",
   "execution_count": 31,
   "id": "b5695bf8",
   "metadata": {
    "slideshow": {
     "slide_type": "-"
    }
   },
   "outputs": [
    {
     "data": {
      "text/plain": [
       "0.7727272727272727"
      ]
     },
     "execution_count": 31,
     "metadata": {},
     "output_type": "execute_result"
    }
   ],
   "source": [
    "mdm.score(X_test, y_test)"
   ]
  },
  {
   "cell_type": "markdown",
   "id": "4ed65983",
   "metadata": {},
   "source": [
    "In this case, computing with the data on the manifold directly give similar results."
   ]
  },
  {
   "cell_type": "markdown",
   "id": "cdc3da5b",
   "metadata": {
    "slideshow": {
     "slide_type": "slide"
    }
   },
   "source": [
    "Recall our question.\n",
    "\n",
    "$\\color{#EF5645}{\\text{Question}}$: Given labeled functional connectomes of several subjects, can we predict if a new subject has schizophrenia?\n",
    "\n",
    "We can use the fitted model to make new predictions."
   ]
  },
  {
   "cell_type": "code",
   "execution_count": 32,
   "id": "ab20c54a",
   "metadata": {},
   "outputs": [
    {
     "data": {
      "text/plain": [
       "['Healthy',\n",
       " 'Healthy',\n",
       " 'Schizophrenic',\n",
       " 'Schizophrenic',\n",
       " 'Schizophrenic',\n",
       " 'Schizophrenic',\n",
       " 'Schizophrenic',\n",
       " 'Schizophrenic',\n",
       " 'Schizophrenic',\n",
       " 'Healthy',\n",
       " 'Schizophrenic',\n",
       " 'Healthy',\n",
       " 'Schizophrenic',\n",
       " 'Healthy',\n",
       " 'Healthy',\n",
       " 'Healthy',\n",
       " 'Healthy',\n",
       " 'Healthy',\n",
       " 'Healthy',\n",
       " 'Schizophrenic',\n",
       " 'Schizophrenic',\n",
       " 'Schizophrenic']"
      ]
     },
     "execution_count": 32,
     "metadata": {},
     "output_type": "execute_result"
    }
   ],
   "source": [
    "[labels_str[i] for i in mdm.predict(X_test)]"
   ]
  },
  {
   "cell_type": "markdown",
   "id": "8f7442a9",
   "metadata": {
    "slideshow": {
     "slide_type": "slide"
    }
   },
   "source": [
    "# This Unit\n",
    "\n",
    "- **Unit 3 (Machine Learning): Geometric Machine Learning for Shapes**\n",
    "  - A) Mean and Covariance\n",
    "  - **B) Classification**\n",
    "    - Motivation: Shape of Schizophrenia\n",
    "    - Classification Method 1: Tangent ML\n",
    "    - Classification Method 2: Minimum Distance to Mean\n",
    "  - C) Regression\n",
    "  - D) Clustering\n",
    "  - E) Dimension Reduction"
   ]
  }
 ],
 "metadata": {
  "celltoolbar": "Slideshow",
  "kernelspec": {
   "display_name": "Python 3 (ipykernel)",
   "language": "python",
   "name": "python3"
  },
  "language_info": {
   "codemirror_mode": {
    "name": "ipython",
    "version": 3
   },
   "file_extension": ".py",
   "mimetype": "text/x-python",
   "name": "python",
   "nbconvert_exporter": "python",
   "pygments_lexer": "ipython3",
   "version": "3.8.15"
  }
 },
 "nbformat": 4,
 "nbformat_minor": 5
}
