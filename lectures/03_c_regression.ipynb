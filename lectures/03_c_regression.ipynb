{
 "cells": [
  {
   "cell_type": "markdown",
   "id": "83fc4529",
   "metadata": {
    "slideshow": {
     "slide_type": "slide"
    }
   },
   "source": [
    "# 03 Geometric Machine Learning for Shape Analysis\n",
    "\n",
    "## C) Supervised Learning: Regression\n",
    "\n",
    "$\\color{#003660}{\\text{Nina Miolane - Assistant Professor}}$ @ BioShape Lab @ UCSB ECE\n"
   ]
  },
  {
   "cell_type": "markdown",
   "id": "6336f276",
   "metadata": {
    "cell_style": "center"
   },
   "source": [
    "<center><img src=\"figs/03_ratyz.png\" width=450px alt=\"default\"/></center>"
   ]
  },
  {
   "cell_type": "markdown",
   "id": "ccbba192",
   "metadata": {
    "slideshow": {
     "slide_type": "skip"
    }
   },
   "source": [
    "### Resources\n",
    "\n",
    "Mathematics:\n",
    "- Geometric and code: https://hal.science/hal-03766900/\n",
    "- Kendall Shape Spaces: \n",
    "- http://image.diku.dk/imagecanon/material/kendall-shapes.pdf\n",
    "- Curve Shapes:\n",
    "- https://arxiv.org/abs/1803.10894\n",
    "- Surface Shapes:\n",
    "- https://arxiv.org/abs/1910.02045\n",
    "- Deformations:\n",
    "- https://en.wikipedia.org/wiki/Large_deformation_diffeomorphic_metric_mapping\n",
    "\n",
    "\n",
    "Applications:\n"
   ]
  },
  {
   "cell_type": "markdown",
   "id": "4f49707b",
   "metadata": {
    "slideshow": {
     "slide_type": "slide"
    }
   },
   "source": [
    "# This Unit\n",
    "\n",
    "- **Unit 3 (Machine Learning): Geometric Machine Learning for Shapes**\n",
    "  - A) Mean and Covariance\n",
    "  - B) Classification\n",
    "  - **C) Regression**\n",
    "  - D) Clustering\n",
    "  - E) Dimension Reduction"
   ]
  },
  {
   "cell_type": "markdown",
   "id": "55f194a7",
   "metadata": {
    "slideshow": {
     "slide_type": "slide"
    }
   },
   "source": [
    "### Supervised Learning in ML\n",
    "\n",
    "Machine Learning is divided into two principal categories of algorithms: supervised and unsupervised learning algorithms. Both learn from data.\n",
    "\n",
    "$\\color{#EF5645}{\\text{Definition}}$: _Supervised learning_ refers to the task of learning a function that maps an input $X$ to an output $Y$ based on example input-output pairs. We say that the method is:\n",
    "- a _classification_ if the outputs are categorical,\n",
    "- a _regression_ if the outputs are quantitative.\n",
    "\n",
    "<center><img src=\"figs/03_sl2.png\" width=900px alt=\"default\"/></center>\n",
    "<center>Supervised Learning</center>"
   ]
  },
  {
   "cell_type": "markdown",
   "id": "134a4187",
   "metadata": {
    "slideshow": {
     "slide_type": "slide"
    }
   },
   "source": [
    "### Review of Traditional Regression\n",
    "\n",
    "\n",
    "\n",
    "$\\color{#EF5645}{\\text{Given data}}$:\n",
    "- $(X_1, ..., X_n)$:\n",
    "  - inputs, e.g. ages of the rats, in days.\n",
    "- $(y_1, ..., y_n)$: \n",
    "  - outputs, e.g. rat skull shapes.\n",
    "\n",
    "\n",
    "\n",
    "<center><img src=\"figs/03_linear_regression.png\" width=350px alt=\"default\"/></center>\n",
    "<center>Inputs: $X_1, ..., X_n \\in \\mathbb{R}$. Outputs $y_1, ..., y_n \\in \\mathbb{R}$.</center>\n",
    "\n",
    "$\\rightarrow \\color{#EF5645}{\\text{Goal}}$: Build $f$ that predicts the rat skull shape corresponding to a new time $X_\\text{new}$.\n"
   ]
  },
  {
   "cell_type": "markdown",
   "id": "70d842fe",
   "metadata": {
    "slideshow": {
     "slide_type": "slide"
    }
   },
   "source": [
    "### Review of Traditional Regression: 4 Steps\n",
    "\n",
    "1. $\\color{#EF5645}{\\text{Modelling:}}$\n",
    "\n",
    "\n",
    "- $\\color{#EF5645}{\\text{Decide on the function } f_\\theta:}$ that outputs $\\hat y = f_\\theta(X)$: prediction for $y$.\n",
    "  - $X$: input, e.g. time\n",
    "  - $y$: ground truth, e.g. true rat skull at this time\n",
    "  - $\\hat y = f_\\theta(X)$: model's predicted skull.\n",
    "- $\\color{#EF5645}{\\text{Decide on a loss function:}}$ $L(y, \\hat y)$ that evaluates if the model is right or wrong.\n",
    "\n",
    "$\\color{#047C91}{\\text{Example}}$: \n",
    "- The model $f_\\theta(X) = \\theta_0 + \\theta_1 X$ has parameters $\\theta=(\\theta_0, \\theta_1)$.\n",
    "- The loss function $L(y, \\hat y) = d^2(y, \\hat y)$ with $d$ is a notion of distance on shape spaces.\n",
    "  - e.g. $L(y, \\hat y)= |y - \\hat y |^2 = |y - \\theta_0 - \\theta_1 X |^2$: least-squares.\n"
   ]
  },
  {
   "cell_type": "markdown",
   "id": "e5f90e4b",
   "metadata": {
    "slideshow": {
     "slide_type": "slide"
    }
   },
   "source": [
    "2. $\\color{#EF5645}{\\text{Split dataset into train / test sets:}}$ \n",
    "   - Train $(X_1, y_1), ..., (X_{n_\\text{train}}, y_{n_\\text{train}})$: build the algorithm\n",
    "   - Test $(X_{n_\\text{train}+1}, y_{n_\\text{train}+1}), ..., (X_n, y_n)$: assess its performances.\n",
    "   \n",
    "3. $\\color{#EF5645}{\\text{Train:}}$ Build the algorithm\n",
    "   - Also called: \"Fitting the model's parameters $\\theta$.\"\n",
    "   - Find $\\theta^*$ such that the model predicts the train set best: \n",
    "   $$\\theta^* = \\text{argmin}_\\theta \\sum_{i=1}^{n_\\text{train}} L(y_i, f_\\theta(X_i))$$\n",
    "   \n",
    "4. $\\color{#EF5645}{\\text{Test:}}$ Assess its performances: \n",
    "   - Loss on test set: $\\sum_{i=n_\\text{train}+1}^{n} L(y_i, f_{\\theta^*}(X_i))$"
   ]
  },
  {
   "cell_type": "markdown",
   "id": "1b2a4d80",
   "metadata": {
    "slideshow": {
     "slide_type": "slide"
    }
   },
   "source": [
    "# This Unit\n",
    "\n",
    "- **Unit 3 (Machine Learning): Geometric Machine Learning for Shapes**\n",
    "  - A) Mean and Covariance\n",
    "  - B) Classification\n",
    "  - **C) Regression**\n",
    "    - Motivation: Shape of Rat Skulls\n",
    "    - Regression Method 1: Tangent ML\n",
    "    - Regression Method 2: Geodesic Regression\n",
    "  - D) Clustering\n",
    "  - E) Dimension Reduction"
   ]
  },
  {
   "cell_type": "markdown",
   "id": "b49df37a",
   "metadata": {
    "slideshow": {
     "slide_type": "slide"
    }
   },
   "source": [
    "# Motivation: Regression of Rat Skulls Shapes"
   ]
  },
  {
   "cell_type": "markdown",
   "id": "ef214734",
   "metadata": {
    "slideshow": {
     "slide_type": "slide"
    }
   },
   "source": [
    "## Rat Skulls\n",
    "\n",
    "Animal models continue to be important tools for understanding disease mechanisms and for preclinical testing of potential therapeutics. \n",
    "\n",
    "The rat has a large brain and exhibits a complex behavioral repertoire that make it amenable for laboratory research.\n",
    "\n",
    "We are interested in modeling the evolution of rat skulls shapes, in order to (later) evaluate if new rats have morphological issues at development.\n",
    "\n",
    "<center><img src=\"figs/03_ratyz.png\" width=400px alt=\"default\"/></center>\n",
    "\n",
    "<center>8 landmarks on a rat's skull.</center>"
   ]
  },
  {
   "cell_type": "markdown",
   "id": "f833908b",
   "metadata": {
    "slideshow": {
     "slide_type": "slide"
    }
   },
   "source": [
    "### Motivation: Shape of Rat Skulls Through Time\n",
    "\n",
    "$\\color{#EF5645}{\\text{Question}}$: Given rat skulls at different time points, can we predict the skull shape of that rat at another time?\n",
    "\n",
    "$\\color{#EF5645}{\\text{Our answer}}$: Regression on manifold:\n",
    "- input: X = time in days: is a real number.\n",
    "- output: y is a skull shape, represented in Kendall shape space with 8 landmarks.\n"
   ]
  },
  {
   "cell_type": "markdown",
   "id": "b1c5540d",
   "metadata": {},
   "source": [
    "We will need to perform automatic differentiation: we take autograd backend."
   ]
  },
  {
   "cell_type": "code",
   "execution_count": 11,
   "id": "c8e281ed",
   "metadata": {
    "slideshow": {
     "slide_type": "slide"
    }
   },
   "outputs": [
    {
     "name": "stdout",
     "output_type": "stream",
     "text": [
      "Requirement already satisfied: autograd in /Users/ninamiolane/opt/anaconda3/envs/ece594n/lib/python3.8/site-packages (1.5)\r\n",
      "Requirement already satisfied: future>=0.15.2 in /Users/ninamiolane/opt/anaconda3/envs/ece594n/lib/python3.8/site-packages (from autograd) (0.18.3)\r\n",
      "Requirement already satisfied: numpy>=1.12 in /Users/ninamiolane/opt/anaconda3/envs/ece594n/lib/python3.8/site-packages (from autograd) (1.24.1)\r\n"
     ]
    }
   ],
   "source": [
    "! pip install autograd"
   ]
  },
  {
   "cell_type": "code",
   "execution_count": 12,
   "id": "dee58851",
   "metadata": {},
   "outputs": [],
   "source": [
    "import numpy as np\n",
    "import matplotlib as mpl\n",
    "import matplotlib.pyplot as plt\n",
    "\n",
    "import os\n",
    "os.environ[\"GEOMSTATS_BACKEND\"] = \"autograd\""
   ]
  },
  {
   "cell_type": "markdown",
   "id": "403782ef",
   "metadata": {
    "slideshow": {
     "slide_type": "slide"
    }
   },
   "source": [
    "### Data\n",
    "\n",
    "We use Vilmann’s rat calvaria (skulls excluding the lower jaw) from X-ray images:\n",
    "  - 18 rats\n",
    "  - 8 time points: at ages of 7, 14, 21, 30, 40, 60, 90, and 150 days.\n",
    "  - 8 landmarks in 2D for each skull shape.\n"
   ]
  },
  {
   "cell_type": "code",
   "execution_count": 14,
   "id": "ee78b767",
   "metadata": {},
   "outputs": [
    {
     "name": "stdout",
     "output_type": "stream",
     "text": [
      "The data of the first rat has shape (n_times, n_landmarks, dim) = (8, 8, 2).\n"
     ]
    }
   ],
   "source": [
    "data = np.load(\"03_rat_skulls.npy\")\n",
    "data_first = data[:8]\n",
    "print(f\"The data of the first rat has shape (n_times, n_landmarks, dim) = {data_first.shape}.\")"
   ]
  },
  {
   "cell_type": "code",
   "execution_count": 15,
   "id": "28abeb5e",
   "metadata": {
    "scrolled": false,
    "slideshow": {
     "slide_type": "slide"
    }
   },
   "outputs": [
    {
     "data": {
      "image/png": "[encoded data removed]",
      "text/plain": [
       "<Figure size 800x800 with 1 Axes>"
      ]
     },
     "metadata": {},
     "output_type": "display_data"
    }
   ],
   "source": [
    "fig = plt.figure(figsize=(8, 8))\n",
    "ax = fig.add_subplot(111)\n",
    "points = data_first.reshape(-1, 2)\n",
    "colors = np.repeat(np.arange(0, 8, 1), 8)\n",
    "norm = mpl.colors.Normalize(vmin=0, vmax=8)\n",
    "plt_plot = plt.scatter(points[:, 0], points[:, 1], c=norm(colors))\n",
    "ax.set_title(\"Skulls of first rat: 8 landmarks at 8 time points (color: time).\");"
   ]
  },
  {
   "cell_type": "markdown",
   "id": "6e6dcbad",
   "metadata": {
    "slideshow": {
     "slide_type": "slide"
    }
   },
   "source": [
    "## Regression Method 1: Tangent Machine Learning"
   ]
  },
  {
   "cell_type": "markdown",
   "id": "178c1e98",
   "metadata": {
    "slideshow": {
     "slide_type": "slide"
    }
   },
   "source": [
    "### Recall: Tangent Space at the Fréchet Mean\n",
    "\n",
    "The Fréchet mean gives us a way of transforming our non-linear data into vectors!\n",
    "1. Compute the Fréchet mean $\\bar{x}$ of the data points\n",
    "2. Consider the tangent space $T_\\bar{x}M$of the manifold $M$ at $\\bar{x}$\n",
    "3. Compute the Logarithms of the data points at $\\bar{x}$\n",
    "\n",
    "$\\rightarrow$ Get a dataset on a vector space, and apply classical machine learning on it.\n",
    "\n",
    "$\\color{#EF5645}{\\text{In practice}}$: \n",
    "- Either use `FrechetMean` and `metric.log` methods.\n",
    "- Or the function `ToTangentSpace` does both."
   ]
  },
  {
   "cell_type": "markdown",
   "id": "47c6fd2e",
   "metadata": {
    "slideshow": {
     "slide_type": "slide"
    }
   },
   "source": [
    "1. $\\color{#EF5645}{\\text{Modelling:}}$\n",
    "\n",
    "- $\\color{#EF5645}{\\text{Decide on the function $f_\\theta$:}}$ that outputs $\\hat y = f_\\theta(X)$: prediction for $y$.\n",
    "- $\\color{#EF5645}{\\text{Decide on a loss function:}}$ $L(y, \\hat y)$ that evaluates if the model is right or wrong.\n",
    "\n",
    "$\\color{#047C91}{\\text{Example}}$: \n",
    "- Use `ToTangentSpace` (do it manually here, with `FrechetMean`, `metric.log`)\n",
    "- Use any regressor from `scikit-learn`, e.g. `LinearRegression`.\n",
    "  - `LinearRegression` comes with its loss function."
   ]
  },
  {
   "cell_type": "code",
   "execution_count": 23,
   "id": "9e0a6432",
   "metadata": {},
   "outputs": [],
   "source": [
    "from geomstats.geometry.pre_shape import PreShapeSpace, KendallShapeMetric\n",
    "from geomstats.learning.frechet_mean import FrechetMean\n",
    "\n",
    "from sklearn.linear_model import LinearRegression\n",
    "\n",
    "preshape = PreShapeSpace(k_landmarks=8, m_ambient=2)\n",
    "kendall_metric = KendallShapeMetric(k_landmarks=8, m_ambient=2)\n",
    "\n",
    "mean = FrechetMean(metric=kendall_metric)\n",
    "lr = LinearRegression()"
   ]
  },
  {
   "cell_type": "markdown",
   "id": "9dfbab7d",
   "metadata": {
    "slideshow": {
     "slide_type": "slide"
    }
   },
   "source": [
    "2. $\\color{#EF5645}{\\text{Split dataset into train / test sets:}}$ \n",
    "   - Train $(X_1, y_1), ..., (X_{n_\\text{train}}, y_{n_\\text{train}})$: build the algorithm\n",
    "   - Test $(X_{n_\\text{train}+1}, y_{n_\\text{train}+1}), ..., (X_n, y_n)$: assess its performances."
   ]
  },
  {
   "cell_type": "code",
   "execution_count": 24,
   "id": "818e1ff8",
   "metadata": {
    "slideshow": {
     "slide_type": "-"
    }
   },
   "outputs": [
    {
     "name": "stdout",
     "output_type": "stream",
     "text": [
      "The dataset has 8 skulls.\n",
      "The train set has 6 skulls.\n",
      "The test set has 2 skulls.\n"
     ]
    }
   ],
   "source": [
    "from sklearn.model_selection import train_test_split\n",
    "\n",
    "X = np.linspace(0., 1., 8); X = np.atleast_2d(X).T\n",
    "y = preshape.projection(data_first)\n",
    "X_train, X_test, y_train, y_test = train_test_split(X, y)\n",
    "\n",
    "print(f\"The dataset has {len(X)} skulls.\")\n",
    "print(f\"The train set has {len(X_train)} skulls.\")\n",
    "print(f\"The test set has {len(X_test)} skulls.\")"
   ]
  },
  {
   "cell_type": "markdown",
   "id": "c68ec9a3",
   "metadata": {
    "slideshow": {
     "slide_type": "slide"
    }
   },
   "source": [
    "3. $\\color{#EF5645}{\\text{Train:}}$ Build the algorithm\n",
    "   - Also called: \"Fitting the model's parameters $\\theta$.\"\n",
    "   - Find $\\theta^*$ such that the model predicts the train set best: \n",
    "   $$\\theta^* = \\text{argmin}_\\theta \\sum_{i=1}^{n_\\text{train}} L(y_i, f_\\theta(X_i))$$"
   ]
  },
  {
   "cell_type": "code",
   "execution_count": 25,
   "id": "ecbb8b02",
   "metadata": {},
   "outputs": [],
   "source": [
    "from geomstats.learning.frechet_mean import FrechetMean\n",
    "\n",
    "mean.fit(y_train)\n",
    "\n",
    "tangent_y_train = kendall_metric.log(y_train, base_point=mean.estimate_)\n",
    "tangent_y_test = kendall_metric.log(y_test, base_point=mean.estimate_)"
   ]
  },
  {
   "cell_type": "code",
   "execution_count": 26,
   "id": "e790f68c",
   "metadata": {
    "slideshow": {
     "slide_type": "-"
    }
   },
   "outputs": [
    {
     "data": {
      "text/html": [
       "<style>#sk-container-id-3 {color: black;background-color: white;}#sk-container-id-3 pre{padding: 0;}#sk-container-id-3 div.sk-toggleable {background-color: white;}#sk-container-id-3 label.sk-toggleable__label {cursor: pointer;display: block;width: 100%;margin-bottom: 0;padding: 0.3em;box-sizing: border-box;text-align: center;}#sk-container-id-3 label.sk-toggleable__label-arrow:before {content: \"▸\";float: left;margin-right: 0.25em;color: #696969;}#sk-container-id-3 label.sk-toggleable__label-arrow:hover:before {color: black;}#sk-container-id-3 div.sk-estimator:hover label.sk-toggleable__label-arrow:before {color: black;}#sk-container-id-3 div.sk-toggleable__content {max-height: 0;max-width: 0;overflow: hidden;text-align: left;background-color: #f0f8ff;}#sk-container-id-3 div.sk-toggleable__content pre {margin: 0.2em;color: black;border-radius: 0.25em;background-color: #f0f8ff;}#sk-container-id-3 input.sk-toggleable__control:checked~div.sk-toggleable__content {max-height: 200px;max-width: 100%;overflow: auto;}#sk-container-id-3 input.sk-toggleable__control:checked~label.sk-toggleable__label-arrow:before {content: \"▾\";}#sk-container-id-3 div.sk-estimator input.sk-toggleable__control:checked~label.sk-toggleable__label {background-color: #d4ebff;}#sk-container-id-3 div.sk-label input.sk-toggleable__control:checked~label.sk-toggleable__label {background-color: #d4ebff;}#sk-container-id-3 input.sk-hidden--visually {border: 0;clip: rect(1px 1px 1px 1px);clip: rect(1px, 1px, 1px, 1px);height: 1px;margin: -1px;overflow: hidden;padding: 0;position: absolute;width: 1px;}#sk-container-id-3 div.sk-estimator {font-family: monospace;background-color: #f0f8ff;border: 1px dotted black;border-radius: 0.25em;box-sizing: border-box;margin-bottom: 0.5em;}#sk-container-id-3 div.sk-estimator:hover {background-color: #d4ebff;}#sk-container-id-3 div.sk-parallel-item::after {content: \"\";width: 100%;border-bottom: 1px solid gray;flex-grow: 1;}#sk-container-id-3 div.sk-label:hover label.sk-toggleable__label {background-color: #d4ebff;}#sk-container-id-3 div.sk-serial::before {content: \"\";position: absolute;border-left: 1px solid gray;box-sizing: border-box;top: 0;bottom: 0;left: 50%;z-index: 0;}#sk-container-id-3 div.sk-serial {display: flex;flex-direction: column;align-items: center;background-color: white;padding-right: 0.2em;padding-left: 0.2em;position: relative;}#sk-container-id-3 div.sk-item {position: relative;z-index: 1;}#sk-container-id-3 div.sk-parallel {display: flex;align-items: stretch;justify-content: center;background-color: white;position: relative;}#sk-container-id-3 div.sk-item::before, #sk-container-id-3 div.sk-parallel-item::before {content: \"\";position: absolute;border-left: 1px solid gray;box-sizing: border-box;top: 0;bottom: 0;left: 50%;z-index: -1;}#sk-container-id-3 div.sk-parallel-item {display: flex;flex-direction: column;z-index: 1;position: relative;background-color: white;}#sk-container-id-3 div.sk-parallel-item:first-child::after {align-self: flex-end;width: 50%;}#sk-container-id-3 div.sk-parallel-item:last-child::after {align-self: flex-start;width: 50%;}#sk-container-id-3 div.sk-parallel-item:only-child::after {width: 0;}#sk-container-id-3 div.sk-dashed-wrapped {border: 1px dashed gray;margin: 0 0.4em 0.5em 0.4em;box-sizing: border-box;padding-bottom: 0.4em;background-color: white;}#sk-container-id-3 div.sk-label label {font-family: monospace;font-weight: bold;display: inline-block;line-height: 1.2em;}#sk-container-id-3 div.sk-label-container {text-align: center;}#sk-container-id-3 div.sk-container {/* jupyter's `normalize.less` sets `[hidden] { display: none; }` but bootstrap.min.css set `[hidden] { display: none !important; }` so we also need the `!important` here to be able to override the default hidden behavior on the sphinx rendered scikit-learn.org. See: https://github.com/scikit-learn/scikit-learn/issues/21755 */display: inline-block !important;position: relative;}#sk-container-id-3 div.sk-text-repr-fallback {display: none;}</style><div id=\"sk-container-id-3\" class=\"sk-top-container\"><div class=\"sk-text-repr-fallback\"><pre>LinearRegression()</pre><b>In a Jupyter environment, please rerun this cell to show the HTML representation or trust the notebook. <br />On GitHub, the HTML representation is unable to render, please try loading this page with nbviewer.org.</b></div><div class=\"sk-container\" hidden><div class=\"sk-item\"><div class=\"sk-estimator sk-toggleable\"><input class=\"sk-toggleable__control sk-hidden--visually\" id=\"sk-estimator-id-3\" type=\"checkbox\" checked><label for=\"sk-estimator-id-3\" class=\"sk-toggleable__label sk-toggleable__label-arrow\">LinearRegression</label><div class=\"sk-toggleable__content\"><pre>LinearRegression()</pre></div></div></div></div></div>"
      ],
      "text/plain": [
       "LinearRegression()"
      ]
     },
     "execution_count": 26,
     "metadata": {},
     "output_type": "execute_result"
    }
   ],
   "source": [
    "lr.fit(X_train, tangent_y_train.reshape((6, -1)))"
   ]
  },
  {
   "cell_type": "markdown",
   "id": "4ed6c699",
   "metadata": {
    "slideshow": {
     "slide_type": "slide"
    }
   },
   "source": [
    "4. $\\color{#EF5645}{\\text{Test:}}$ Assess its performances: \n",
    "   - Loss on test set: $\\sum_{i=n_\\text{train}+1}^{n} L(y_i, f_{\\theta^*}(X_i))$"
   ]
  },
  {
   "cell_type": "code",
   "execution_count": 27,
   "id": "62d762a8",
   "metadata": {},
   "outputs": [
    {
     "name": "stdout",
     "output_type": "stream",
     "text": [
      "(2, 8, 2)\n",
      "We get a score of -5.87.\n"
     ]
    }
   ],
   "source": [
    "print(tangent_y_test.shape)\n",
    "score = lr.score(X_test, tangent_y_test.reshape((2, -1)))\n",
    "print(f\"We get a score of {score:.2f}.\")"
   ]
  },
  {
   "cell_type": "markdown",
   "id": "7b2fe28e",
   "metadata": {},
   "source": [
    "Best possible score is 1, and the score can be negative because it can be arbitrarily bad."
   ]
  },
  {
   "cell_type": "markdown",
   "id": "afdcc4f2",
   "metadata": {
    "slideshow": {
     "slide_type": "skip"
    }
   },
   "source": [
    "Since, we can use any regressor available in `scikit-learn`: not necessarily the `LinearRegression` regressor, we re-run with `RandomForestRegressor`."
   ]
  },
  {
   "cell_type": "code",
   "execution_count": 39,
   "id": "d1380b69",
   "metadata": {
    "slideshow": {
     "slide_type": "skip"
    }
   },
   "outputs": [
    {
     "name": "stdout",
     "output_type": "stream",
     "text": [
      "R^2 score: -15.71.\n"
     ]
    }
   ],
   "source": [
    "from sklearn.ensemble import RandomForestRegressor\n",
    "    \n",
    "rfr = RandomForestRegressor()\n",
    "\n",
    "rfr.fit(X_train, tangent_y_train.reshape((6, -1)))\n",
    "\n",
    "score = rfr.score(X_test, tangent_y_test.reshape((2, -1)))\n",
    "\n",
    "print(f\"R^2 score: {score:.2f}.\")"
   ]
  },
  {
   "cell_type": "markdown",
   "id": "a18d7da7",
   "metadata": {},
   "source": [
    "This is still not great: let's try to do geometric machine learning."
   ]
  },
  {
   "cell_type": "markdown",
   "id": "f85819c5",
   "metadata": {
    "slideshow": {
     "slide_type": "slide"
    }
   },
   "source": [
    "# Regression Method 2: Geodesic Regression\n"
   ]
  },
  {
   "cell_type": "markdown",
   "id": "b4b1e6ba",
   "metadata": {
    "slideshow": {
     "slide_type": "slide"
    }
   },
   "source": [
    "### Why another regression method?\n",
    "\n",
    "$\\color{#EF5645}{\\text{Previous subsection}}$: Regression Method 1:\n",
    "- \"Project\" data on the tangent space at the FrechetMean: `ToTangentSpace`.\n",
    "- Apply a traditional regression: e.g. `LinearRegression` or `RandomForestRegressor`.\n",
    "\n",
    "However, projecting the data on the tangent space deforms their distribution: the geometry of the curved manifold affects the traditional regression results.\n",
    "\n",
    "$\\color{#EF5645}{\\text{This subsection}}$: Regression Method 2:\n",
    "- Keep data on the manifold with geodesic regression"
   ]
  },
  {
   "cell_type": "markdown",
   "id": "a539f3e7",
   "metadata": {
    "slideshow": {
     "slide_type": "slide"
    }
   },
   "source": [
    "## From Linear to Geodesic Regression\n",
    "\n",
    "We explain geodesic regression by generalizing concepts from linear regression.\n",
    "\n",
    "<center><img src=\"figs/03_regressions.png\" width=900px alt=\"default\"/></center>"
   ]
  },
  {
   "cell_type": "markdown",
   "id": "0ef191fb",
   "metadata": {
    "slideshow": {
     "slide_type": "slide"
    }
   },
   "source": [
    "## From Linear to Geodesic Regression: Function $f$\n",
    "\n",
    "1. $\\color{#EF5645}{\\text{Modelling:}}$\n",
    "- $\\color{#EF5645}{\\text{Decide on the function $f_\\theta$:}}$ that outputs $\\hat y = f_\\theta(X)$: prediction for $y$.\n",
    "- $\\color{#EF5645}{\\text{Decide on a loss function:}}$ $L(y, \\hat y)$ that evaluates if the model is right or wrong.\n",
    "\n",
    "\n",
    "The linear regression model with $\\theta_0, \\theta_1 \\in \\mathbb{R}^m$:\n",
    "\n",
    "$$f_\\theta(X) = \\theta_0 + \\theta_1 X \\in \\mathbb{R}^m$$ \n",
    "\n",
    "Becomes a geodesic regression model with $\\theta_0 \\in M$ and $\\theta_1 \\in T_{\\theta_0}M$:\n",
    "\n",
    "$$f_\\theta(X) = \\text{Exp}_{\\theta_0}\\left( \\theta_1 X \\right) \\in M,$$\n",
    "where Exp is the Riemannian exponential."
   ]
  },
  {
   "cell_type": "markdown",
   "id": "fee5d185",
   "metadata": {
    "slideshow": {
     "slide_type": "slide"
    }
   },
   "source": [
    "## From Linear to Geodesic Regression: Loss $L$\n",
    "\n",
    "1. $\\color{#EF5645}{\\text{Modelling:}}$\n",
    "- $\\color{#EF5645}{\\text{Decide on the function $f_\\theta$:}}$ that outputs $\\hat y = f_\\theta(X)$: prediction for $y$.\n",
    "- $\\color{#EF5645}{\\text{Decide on a loss function:}}$ $L(y, \\hat y)$ that evaluates if the model is right or wrong.\n",
    "\n",
    "\n",
    "The loss function of linear regression is the squared Euclidean distance in $\\mathbb{R}^m$:\n",
    "$$L(y, \\hat y)= |y - \\hat y |^2 = |y - \\theta_0 - \\theta_1 X |^2$$\n",
    "which becomes the square geodesic distance on $M$:\n",
    "$$L(y, \\hat y)= d_M(y, \\hat y )^2 = d_M(y, \\text{Exp}_{\\theta_0}\\left( \\theta_1 X \\right)  )^2.$$\n"
   ]
  },
  {
   "cell_type": "markdown",
   "id": "4602582a",
   "metadata": {
    "slideshow": {
     "slide_type": "slide"
    }
   },
   "source": [
    "1. $\\color{#EF5645}{\\text{Modelling:}}$\n",
    "\n",
    "- $\\color{#EF5645}{\\text{Decide on the function $f_\\theta$:}}$ that outputs $\\hat y = f_\\theta(X)$: prediction for $y$.\n",
    "- $\\color{#EF5645}{\\text{Decide on a loss function:}}$ $L(y, \\hat y)$ that evaluates if the model is right or wrong.\n",
    "  - `GeodesicRegression` comes with its loss function."
   ]
  },
  {
   "cell_type": "code",
   "execution_count": 29,
   "id": "bf73b556",
   "metadata": {
    "slideshow": {
     "slide_type": "-"
    }
   },
   "outputs": [],
   "source": [
    "from geomstats.learning.geodesic_regression import GeodesicRegression\n",
    "\n",
    "gr = GeodesicRegression(\n",
    "    space=preshape, metric=kendall_metric, \n",
    "    center_X=False, method=\"riemannian\", initialization=\"warm_start\")\n",
    "\n",
    "# Warm-start\n",
    "gr.intercept_ = y_train[0]  # theta0\n",
    "gr.coef_ = kendall_metric.log(y_train[-1], y_train[0]) # theta1"
   ]
  },
  {
   "cell_type": "markdown",
   "id": "a093ffb8",
   "metadata": {
    "slideshow": {
     "slide_type": "slide"
    }
   },
   "source": [
    "3. $\\color{#EF5645}{\\text{Train:}}$ Build the algorithm\n",
    "   - Also called: \"Fitting the model's parameters $\\theta$.\"\n"
   ]
  },
  {
   "cell_type": "code",
   "execution_count": 30,
   "id": "a1cee1a3",
   "metadata": {
    "scrolled": false
   },
   "outputs": [
    {
     "data": {
      "text/html": [
       "<style>#sk-container-id-4 {color: black;background-color: white;}#sk-container-id-4 pre{padding: 0;}#sk-container-id-4 div.sk-toggleable {background-color: white;}#sk-container-id-4 label.sk-toggleable__label {cursor: pointer;display: block;width: 100%;margin-bottom: 0;padding: 0.3em;box-sizing: border-box;text-align: center;}#sk-container-id-4 label.sk-toggleable__label-arrow:before {content: \"▸\";float: left;margin-right: 0.25em;color: #696969;}#sk-container-id-4 label.sk-toggleable__label-arrow:hover:before {color: black;}#sk-container-id-4 div.sk-estimator:hover label.sk-toggleable__label-arrow:before {color: black;}#sk-container-id-4 div.sk-toggleable__content {max-height: 0;max-width: 0;overflow: hidden;text-align: left;background-color: #f0f8ff;}#sk-container-id-4 div.sk-toggleable__content pre {margin: 0.2em;color: black;border-radius: 0.25em;background-color: #f0f8ff;}#sk-container-id-4 input.sk-toggleable__control:checked~div.sk-toggleable__content {max-height: 200px;max-width: 100%;overflow: auto;}#sk-container-id-4 input.sk-toggleable__control:checked~label.sk-toggleable__label-arrow:before {content: \"▾\";}#sk-container-id-4 div.sk-estimator input.sk-toggleable__control:checked~label.sk-toggleable__label {background-color: #d4ebff;}#sk-container-id-4 div.sk-label input.sk-toggleable__control:checked~label.sk-toggleable__label {background-color: #d4ebff;}#sk-container-id-4 input.sk-hidden--visually {border: 0;clip: rect(1px 1px 1px 1px);clip: rect(1px, 1px, 1px, 1px);height: 1px;margin: -1px;overflow: hidden;padding: 0;position: absolute;width: 1px;}#sk-container-id-4 div.sk-estimator {font-family: monospace;background-color: #f0f8ff;border: 1px dotted black;border-radius: 0.25em;box-sizing: border-box;margin-bottom: 0.5em;}#sk-container-id-4 div.sk-estimator:hover {background-color: #d4ebff;}#sk-container-id-4 div.sk-parallel-item::after {content: \"\";width: 100%;border-bottom: 1px solid gray;flex-grow: 1;}#sk-container-id-4 div.sk-label:hover label.sk-toggleable__label {background-color: #d4ebff;}#sk-container-id-4 div.sk-serial::before {content: \"\";position: absolute;border-left: 1px solid gray;box-sizing: border-box;top: 0;bottom: 0;left: 50%;z-index: 0;}#sk-container-id-4 div.sk-serial {display: flex;flex-direction: column;align-items: center;background-color: white;padding-right: 0.2em;padding-left: 0.2em;position: relative;}#sk-container-id-4 div.sk-item {position: relative;z-index: 1;}#sk-container-id-4 div.sk-parallel {display: flex;align-items: stretch;justify-content: center;background-color: white;position: relative;}#sk-container-id-4 div.sk-item::before, #sk-container-id-4 div.sk-parallel-item::before {content: \"\";position: absolute;border-left: 1px solid gray;box-sizing: border-box;top: 0;bottom: 0;left: 50%;z-index: -1;}#sk-container-id-4 div.sk-parallel-item {display: flex;flex-direction: column;z-index: 1;position: relative;background-color: white;}#sk-container-id-4 div.sk-parallel-item:first-child::after {align-self: flex-end;width: 50%;}#sk-container-id-4 div.sk-parallel-item:last-child::after {align-self: flex-start;width: 50%;}#sk-container-id-4 div.sk-parallel-item:only-child::after {width: 0;}#sk-container-id-4 div.sk-dashed-wrapped {border: 1px dashed gray;margin: 0 0.4em 0.5em 0.4em;box-sizing: border-box;padding-bottom: 0.4em;background-color: white;}#sk-container-id-4 div.sk-label label {font-family: monospace;font-weight: bold;display: inline-block;line-height: 1.2em;}#sk-container-id-4 div.sk-label-container {text-align: center;}#sk-container-id-4 div.sk-container {/* jupyter's `normalize.less` sets `[hidden] { display: none; }` but bootstrap.min.css set `[hidden] { display: none !important; }` so we also need the `!important` here to be able to override the default hidden behavior on the sphinx rendered scikit-learn.org. See: https://github.com/scikit-learn/scikit-learn/issues/21755 */display: inline-block !important;position: relative;}#sk-container-id-4 div.sk-text-repr-fallback {display: none;}</style><div id=\"sk-container-id-4\" class=\"sk-top-container\"><div class=\"sk-text-repr-fallback\"><pre>GeodesicRegression(center_X=False, initialization=&#x27;warm_start&#x27;,\n",
       "                   method=&#x27;riemannian&#x27;,\n",
       "                   metric=&lt;geomstats.geometry.pre_shape.KendallShapeMetric object at 0x7fb888a74ca0&gt;,\n",
       "                   space=&lt;geomstats.geometry.pre_shape.PreShapeSpace object at 0x7fb888a78cd0&gt;)</pre><b>In a Jupyter environment, please rerun this cell to show the HTML representation or trust the notebook. <br />On GitHub, the HTML representation is unable to render, please try loading this page with nbviewer.org.</b></div><div class=\"sk-container\" hidden><div class=\"sk-item\"><div class=\"sk-estimator sk-toggleable\"><input class=\"sk-toggleable__control sk-hidden--visually\" id=\"sk-estimator-id-4\" type=\"checkbox\" checked><label for=\"sk-estimator-id-4\" class=\"sk-toggleable__label sk-toggleable__label-arrow\">GeodesicRegression</label><div class=\"sk-toggleable__content\"><pre>GeodesicRegression(center_X=False, initialization=&#x27;warm_start&#x27;,\n",
       "                   method=&#x27;riemannian&#x27;,\n",
       "                   metric=&lt;geomstats.geometry.pre_shape.KendallShapeMetric object at 0x7fb888a74ca0&gt;,\n",
       "                   space=&lt;geomstats.geometry.pre_shape.PreShapeSpace object at 0x7fb888a78cd0&gt;)</pre></div></div></div></div></div>"
      ],
      "text/plain": [
       "GeodesicRegression(center_X=False, initialization='warm_start',\n",
       "                   method='riemannian',\n",
       "                   metric=<geomstats.geometry.pre_shape.KendallShapeMetric object at 0x7fb888a74ca0>,\n",
       "                   space=<geomstats.geometry.pre_shape.PreShapeSpace object at 0x7fb888a78cd0>)"
      ]
     },
     "execution_count": 30,
     "metadata": {},
     "output_type": "execute_result"
    }
   ],
   "source": [
    "gr.fit(np.squeeze(X_train), y_train)"
   ]
  },
  {
   "cell_type": "markdown",
   "id": "1ce16a8f",
   "metadata": {
    "slideshow": {
     "slide_type": "slide"
    }
   },
   "source": [
    "4. $\\color{#EF5645}{\\text{Test:}}$ Assess its performances: \n",
    "   - Loss on test set: $\\sum_{i=n_\\text{train}+1}^{n} L(y_i, f_{\\theta^*}(X_i))$"
   ]
  },
  {
   "cell_type": "code",
   "execution_count": 31,
   "id": "b5695bf8",
   "metadata": {
    "slideshow": {
     "slide_type": "-"
    }
   },
   "outputs": [
    {
     "name": "stdout",
     "output_type": "stream",
     "text": [
      "R^2: 0.552742963152496\n"
     ]
    }
   ],
   "source": [
    "print('R^2:', gr.score(np.squeeze(X_test), y_test))"
   ]
  },
  {
   "cell_type": "markdown",
   "id": "cd2cea85",
   "metadata": {},
   "source": [
    "In this case, computing with the data on the manifold directly gives much better results."
   ]
  },
  {
   "cell_type": "markdown",
   "id": "552389c1",
   "metadata": {
    "slideshow": {
     "slide_type": "slide"
    }
   },
   "source": [
    "Recall our question.\n",
    "\n",
    "$\\color{#EF5645}{\\text{Question}}$: Given skulls of a rat through time, can we predict what is the skull shape of that rat at another time?\n",
    "\n",
    "We can use the fitted model to make new predictions."
   ]
  },
  {
   "cell_type": "code",
   "execution_count": 44,
   "id": "71f9da7b",
   "metadata": {},
   "outputs": [
    {
     "data": {
      "image/png": "[encoded data removed]",
      "text/plain": [
       "<Figure size 600x600 with 1 Axes>"
      ]
     },
     "metadata": {},
     "output_type": "display_data"
    }
   ],
   "source": [
    "skull =  gr.predict(np.array([4.5]))\n",
    "fig = plt.figure(figsize=(6, 6)); ax = fig.add_subplot(111)\n",
    "points = skull.reshape(-1, 2); plt_plot, = plt.plot(points[:, 0], points[:, 1], 'o', markersize=10)\n",
    "ax.set_title(\"Rat skull predicted at time 4.5 days.\");"
   ]
  },
  {
   "cell_type": "markdown",
   "id": "8f7442a9",
   "metadata": {
    "slideshow": {
     "slide_type": "slide"
    }
   },
   "source": [
    "# This Unit\n",
    "\n",
    "- **Unit 3 (Machine Learning): Geometric Machine Learning for Shapes**\n",
    "  - A) Mean and Covariance\n",
    "  - B) Classification\n",
    "  - **C) Regression**\n",
    "    - Motivation: Shape of Rat Skulls\n",
    "    - Regression Method 1: Tangent ML\n",
    "    - Regression Method 2: Geodesic Regression\n",
    "  - D) Clustering\n",
    "  - E) Dimension Reduction\n"
   ]
  }
 ],
 "metadata": {
  "celltoolbar": "Slideshow",
  "kernelspec": {
   "display_name": "Python 3 (ipykernel)",
   "language": "python",
   "name": "python3"
  },
  "language_info": {
   "codemirror_mode": {
    "name": "ipython",
    "version": 3
   },
   "file_extension": ".py",
   "mimetype": "text/x-python",
   "name": "python",
   "nbconvert_exporter": "python",
   "pygments_lexer": "ipython3",
   "version": "3.8.15"
  }
 },
 "nbformat": 4,
 "nbformat_minor": 5
}
