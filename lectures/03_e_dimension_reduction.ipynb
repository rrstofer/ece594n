{
 "cells": [
  {
   "cell_type": "markdown",
   "id": "83fc4529",
   "metadata": {
    "slideshow": {
     "slide_type": "slide"
    }
   },
   "source": [
    "# 03 Geometric Machine Learning for Shape Analysis\n",
    "\n",
    "## E) Unsupervised Learning: Dimension Reduction\n",
    "\n",
    "$\\color{#003660}{\\text{Nina Miolane - Assistant Professor}}$ @ BioShape Lab @ UCSB ECE"
   ]
  },
  {
   "cell_type": "markdown",
   "id": "6336f276",
   "metadata": {
    "cell_style": "center"
   },
   "source": [
    "<center><img src=\"figs/03_dimred.png\" width=950px alt=\"default\"/></center>"
   ]
  },
  {
   "cell_type": "markdown",
   "id": "4f49707b",
   "metadata": {
    "slideshow": {
     "slide_type": "slide"
    }
   },
   "source": [
    "# This Unit\n",
    "\n",
    "- **Unit 3 (Machine Learning): Geometric Machine Learning for Shapes**\n",
    "  - A) Mean and Covariance\n",
    "  - B) Classification\n",
    "  - C) Regression\n",
    "  - D) Clustering\n",
    "  - **E) Dimension Reduction**"
   ]
  },
  {
   "cell_type": "markdown",
   "id": "55f194a7",
   "metadata": {
    "slideshow": {
     "slide_type": "slide"
    }
   },
   "source": [
    "### Unsupervised Learning in ML\n",
    "\n",
    "Machine Learning is divided into two principal categories of algorithms: supervised and unsupervised learning algorithms. Both learn from data.\n",
    "\n",
    "$\\color{#EF5645}{\\text{Definition}}$: _Unsupervised learning_ refers to the task of discovering any naturally occuring patterns in a dataset of data points $x$. We say that the method is:\n",
    "- a _clustering_: if we want to find groups (clusters),\n",
    "- a _dimension reduction_: if we want to find the main sources of data variations."
   ]
  },
  {
   "cell_type": "markdown",
   "id": "134a4187",
   "metadata": {
    "slideshow": {
     "slide_type": "slide"
    }
   },
   "source": [
    "### Review of Traditional Dimension Reduction\n",
    "\n",
    "\n",
    "$\\color{#EF5645}{\\text{Given}}$:\n",
    "- Dataset $(X_1, . . . , X_n)$ in a data space of dimension $D$\n",
    "- Integer $d < D$ representing desired lower dimension.\n",
    "\n",
    "<center><img src=\"figs/03_pca.png\" width=250px alt=\"default\"/></center>\n",
    "\n",
    "$\\rightarrow \\color{#EF5645}{\\text{Goal}}$: Find $n$ points $(z_1, ..., z_n)$ that:\n",
    "- belong to a lower-dimensional space of dimension $d < D$,\n",
    "- are \"representative\" of the $(X_1, ..., X_n)$."
   ]
  },
  {
   "cell_type": "markdown",
   "id": "628a606e",
   "metadata": {
    "slideshow": {
     "slide_type": "slide"
    }
   },
   "source": [
    "# This Unit\n",
    "\n",
    "- **Unit 3 (Machine Learning): Geometric Machine Learning for Shapes**\n",
    "  - A) Mean and Covariance\n",
    "  - B) Classification\n",
    "  - C) Regression\n",
    "  - D) Clustering\n",
    "  - **E) Dimension Reduction**\n",
    "    - Motivation: Shapes of Optical Nerve Heads\n",
    "    - Dimension Reduction Method 1: Tangent ML\n",
    "    - Dimension Reduction Method 2: Principal Geodesic Analysis"
   ]
  },
  {
   "cell_type": "markdown",
   "id": "b49df37a",
   "metadata": {
    "slideshow": {
     "slide_type": "slide"
    }
   },
   "source": [
    "# Motivation: Dimension Reduction for Optical Nerve Heads"
   ]
  },
  {
   "cell_type": "code",
   "execution_count": 1,
   "id": "5001fe76",
   "metadata": {
    "slideshow": {
     "slide_type": "slide"
    }
   },
   "outputs": [],
   "source": [
    "import numpy as np\n",
    "import matplotlib.pyplot as plt\n",
    "import matplotlib.colors as colors\n",
    "from mpl_toolkits.mplot3d import Axes3D\n",
    "from mpl_toolkits.mplot3d.art3d import Poly3DCollection\n",
    "import matplotlib.patches as mpatches\n",
    "\n",
    "import warnings\n",
    "warnings.filterwarnings(\"ignore\")\n",
    "\n",
    "label_to_str = {0: \"Normal nerve\", 1: \"Glaucoma nerve\"}\n",
    "label_to_color = {\n",
    "    0: (102 / 255, 178 / 255, 255 / 255, 1.0),\n",
    "    1: (255 / 255, 178 / 255, 102 / 255, 1.0),\n",
    "}\n"
   ]
  },
  {
   "cell_type": "markdown",
   "id": "df1b17d8",
   "metadata": {
    "slideshow": {
     "slide_type": "slide"
    }
   },
   "source": [
    "### Motivation: Two Groups of Optical Nerve Heads\n",
    "\n",
    "$\\color{#EF5645}{\\text{Question}}$: Can we visualize the dataset using the 5 landmarks (not just 3)?\n",
    "\n",
    "$\\color{#EF5645}{\\text{Our answer}}$: Dimension reduction on manifold:\n",
    "- Dataset $(X_1, ..., X_n)$: $n$ nerve shapes in Kendall shape space with $5$ landmarks.\n",
    "- Integer $d=2$ or $d=3$\n",
    "\n",
    "<center><img src=\"figs/01_optic_nerves.png\" width=400px alt=\"default\"/></center>\n",
    "<center>Comparison of optic nerve heads in monkeys with and without glaucoma.</center>"
   ]
  },
  {
   "cell_type": "code",
   "execution_count": 5,
   "id": "5d5d48fe",
   "metadata": {
    "slideshow": {
     "slide_type": "-"
    }
   },
   "outputs": [],
   "source": [
    "import geomstats.datasets.utils as data_utils\n",
    "nerves, labels, monkeys = data_utils.load_optical_nerves()"
   ]
  },
  {
   "cell_type": "markdown",
   "id": "a62b0bd6",
   "metadata": {
    "slideshow": {
     "slide_type": "skip"
    }
   },
   "source": [
    "Plot two optical shapes: "
   ]
  },
  {
   "cell_type": "code",
   "execution_count": 45,
   "id": "ad6aa8de",
   "metadata": {
    "slideshow": {
     "slide_type": "skip"
    }
   },
   "outputs": [
    {
     "name": "stdout",
     "output_type": "stream",
     "text": [
      "(2, 5, 3)\n",
      "[0 1]\n"
     ]
    }
   ],
   "source": [
    "two_nerves = nerves[monkeys == 0]\n",
    "print(two_nerves.shape)\n",
    "\n",
    "two_labels = labels[monkeys == 0]\n",
    "print(two_labels)"
   ]
  },
  {
   "cell_type": "code",
   "execution_count": 17,
   "id": "3fc67e31",
   "metadata": {
    "slideshow": {
     "slide_type": "skip"
    }
   },
   "outputs": [],
   "source": [
    "label_to_str = {0: \"Normal nerve\", 1: \"Glaucoma nerve\"}\n",
    "label_to_color = {\n",
    "    0: (102 / 255, 178 / 255, 255 / 255, 1.0),\n",
    "    1: (255 / 255, 178 / 255, 102 / 255, 1.0),\n",
    "}"
   ]
  },
  {
   "cell_type": "code",
   "execution_count": 47,
   "id": "89100639",
   "metadata": {
    "slideshow": {
     "slide_type": "skip"
    }
   },
   "outputs": [
    {
     "data": {
      "image/png": "[encoded data removed]",
      "text/plain": [
       "<Figure size 432x288 with 1 Axes>"
      ]
     },
     "metadata": {
      "needs_background": "light"
     },
     "output_type": "display_data"
    }
   ],
   "source": [
    "fig = plt.figure(); ax = Axes3D(fig); ax.set_xlim((2000, 4000)); ax.set_ylim((1000, 5000)); ax.set_zlim((-600, 200))\n",
    "\n",
    "for nerve, label in zip(two_nerves, two_labels):\n",
    "    x = nerve[:, 0]\n",
    "    y = nerve[:, 1]\n",
    "    z = nerve[:, 2]\n",
    "\n",
    "    verts = [list(zip(x, y, z))]\n",
    "\n",
    "    poly = Poly3DCollection(verts, alpha=0.5)\n",
    "    color = label_to_color[int(label)]\n",
    "    poly.set_color(colors.rgb2hex(color))\n",
    "    poly.set_edgecolor(\"k\")\n",
    "    ax.add_collection3d(poly)\n",
    "\n",
    "patch_0 = mpatches.Patch(color=label_to_color[0], label=label_to_str[0], alpha=0.5)\n",
    "patch_1 = mpatches.Patch(color=label_to_color[1], label=label_to_str[1], alpha=0.5)\n",
    "plt.legend(handles=[patch_0, patch_1], prop={\"size\": 20})\n",
    "plt.show()"
   ]
  },
  {
   "cell_type": "markdown",
   "id": "01256e06",
   "metadata": {
    "slideshow": {
     "slide_type": "skip"
    }
   },
   "source": [
    "## Refresher: Traditional Principal Component Analysis"
   ]
  },
  {
   "cell_type": "markdown",
   "id": "cefcab8d",
   "metadata": {
    "slideshow": {
     "slide_type": "skip"
    }
   },
   "source": [
    "$\\color{#EF5645}{\\text{Principal Component Analysis (PCA)}}$ is an:\n",
    "- orthogonal projection of the data (belonging to a vector space $\\mathbb{R}^D$),\n",
    "- into a (lower dimensional) linear subspace $\\mathbb{R}^d$, $d < D$, \n",
    "- so that the variance of the projected data is maximized."
   ]
  },
  {
   "cell_type": "markdown",
   "id": "8300f0fa",
   "metadata": {
    "slideshow": {
     "slide_type": "skip"
    }
   },
   "source": [
    "<center><img src=\"figs/03_pcadims.png\" width=800px alt=\"default\"/></center>\n",
    "\n",
    "$\\color{#EF5645}{\\text{Notations}}$: $D$ original dimension, $d$ dimension of lower-dimensional subspace."
   ]
  },
  {
   "cell_type": "markdown",
   "id": "abadef07",
   "metadata": {
    "slideshow": {
     "slide_type": "skip"
    }
   },
   "source": [
    "## PCA: Intuition"
   ]
  },
  {
   "cell_type": "markdown",
   "id": "063603ec",
   "metadata": {
    "slideshow": {
     "slide_type": "skip"
    }
   },
   "source": [
    "What is the 1-dimensional linear subspace that maximizes the variance of the projected data?\n",
    "\n",
    "<center><img src=\"figs/03_apca1.png\" width=400px alt=\"default\"/></center>"
   ]
  },
  {
   "cell_type": "markdown",
   "id": "fe4013e2",
   "metadata": {
    "slideshow": {
     "slide_type": "skip"
    }
   },
   "source": [
    "<center><img src=\"figs/03_apca2.png\" width=400px alt=\"default\"/></center>"
   ]
  },
  {
   "cell_type": "markdown",
   "id": "1186a388",
   "metadata": {
    "slideshow": {
     "slide_type": "skip"
    }
   },
   "source": [
    "<center><img src=\"figs/03_apca3.png\" width=400px alt=\"default\"/></center>"
   ]
  },
  {
   "cell_type": "markdown",
   "id": "d88102c2",
   "metadata": {
    "slideshow": {
     "slide_type": "skip"
    }
   },
   "source": [
    "## PCA: Mathematical Notations\n",
    "\n",
    "Find a orthonormal basis $\\left\\{v_{1}, \\ldots, v_{D}\\right\\}$ of $\\mathbb{R}^{D}$, which satisfies the recursive relationship\n",
    "$$\n",
    "\\begin{gathered}\n",
    "v_{1}=\\underset{\\|v\\|=1}{\\arg \\max } \\sum_{i=1}^{n}\\left(v \\cdot x_{i}\\right)^{2} \\\\\n",
    "v_{k}=\\underset{\\|v\\|=1}{\\arg \\max } \\sum_{i=1}^{n} \\sum_{j=1}^{k-1}\\left(v_{j} \\cdot x_{i}\\right)^{2}+\\left(v \\cdot x_{i}\\right)^{2}\n",
    "\\end{gathered}\n",
    "$$\n",
    "\n",
    "The $x_i$ are centered at the mean in the equations above.\n",
    "\n",
    "<center><img src=\"figs/03_apca3.png\" width=300px alt=\"default\"/></center>\n",
    "\n"
   ]
  },
  {
   "cell_type": "markdown",
   "id": "c1a54867",
   "metadata": {
    "slideshow": {
     "slide_type": "skip"
    }
   },
   "source": [
    "- The subspace $V_{k}=\\operatorname{span}\\left(\\left\\{v_{1}, \\ldots, v_{k}\\right\\}\\right)$ is:\n",
    "  - the $k$-dimensional subspace \n",
    "  - that maximizes the variance \n",
    "  - of the data projected to that subspace: $\\pi_{V_1}(x_i) = v \\cdot x_{i}$\n",
    " "
   ]
  },
  {
   "cell_type": "markdown",
   "id": "978d8ae4",
   "metadata": {
    "slideshow": {
     "slide_type": "skip"
    }
   },
   "source": [
    "$\\color{#047C91}{\\text{Exercise}}$: Consider the two projections below. Which maximizes the variance?\n",
    "\n",
    "\n",
    "<center><img src=\"figs/03_var.png\" width=700px alt=\"default\"/></center>"
   ]
  },
  {
   "cell_type": "markdown",
   "id": "eef729aa",
   "metadata": {
    "slideshow": {
     "slide_type": "skip"
    }
   },
   "source": [
    "## PCA: Method\n",
    "\n",
    "The basis $\\left\\{v_{k}\\right\\}$ is computed as the set of ordered eigenvectors of the sample covariance matrix of the data.\n",
    "  \n",
    "$\\color{#6D7D33}{\\text{Method}}$: Given data $\\left\\{X_{1}, \\ldots, X_n\\right\\}$:\n",
    "- Compute covariance matrix $\\Sigma$, where $\\quad \\overline{\\mathbf{x}}=\\frac{1}{n} \\sum_{i=1}^{n} X_{i}$:\n",
    "\n",
    "$$\\Sigma=\\frac{1}{n} \\sum_{i=1}^{n}\\left(\\mathbf{x}_{i}-\\overline{\\mathbf{x}}\\right)(\\mathbf{x}_i-\\overline{\\mathbf{x}})^{T} \\quad$$ \n",
    "- Compute eigenvectors, eigenvalues of $\\Sigma$:\n",
    "  - Eigenvectors: principal components (PCs)\n",
    "  - Eigenvalues: orders PCs"
   ]
  },
  {
   "cell_type": "markdown",
   "id": "9c97dcc9",
   "metadata": {
    "slideshow": {
     "slide_type": "skip"
    }
   },
   "source": [
    "## PCA: Explanation\n",
    "\n",
    "$\\color{#EF5645}{\\text{Goal (Rewritten)}}$: Maximize $\\quad \\mathbf{u}^{\\top} \\mathbf{X X}^{\\top} \\mathbf{u}$\n",
    "s.t $\\quad \\mathbf{u}^{\\top} \\mathbf{u}=1$, where $\\Sigma = \\mathbf{X X}^{\\top}$\n",
    "\n",
    "$\\color{#6D7D33}{\\text{Method}}$:\n",
    "- Construct Lagrangian $\\mathbf{u}^{\\top} \\mathbf{X X}^{\\top} \\mathbf{u}-\\lambda \\mathbf{u}^{\\top} \\mathbf{u}$\n",
    "- Set partial derivatives to zero\n",
    "$$\n",
    "\\mathbf{X X}^{\\top} \\mathbf{u}-\\lambda \\mathbf{u}=\\left(\\mathbf{X X}^{\\top}-\\lambda \\mathrm{I}\\right) \\mathbf{u}=\\mathbf{0}\n",
    "$$\n",
    "\n",
    "As $\\mathbf{u} \\neq \\mathbf{0}$ then $\\mathbf{u}$ must be an eigenvector of $XX^{\\top}$ with eigenvalue $\\lambda$"
   ]
  },
  {
   "cell_type": "markdown",
   "id": "912b1458",
   "metadata": {
    "slideshow": {
     "slide_type": "skip"
    }
   },
   "source": [
    "# How Many Principal Components (PCs) ?\n",
    "\n",
    "Maximum number of PCs:\n",
    "- For $D$ original dimensions, sample covariance matrix is  $D \\times D$, and has up to $D$ eigenvectors.\n",
    "- Maximum number: $D$ PCs.\n",
    "\n",
    "Interesting number of PCs:\n",
    "- Ignore the components of lesser significance, i.e. small eigenvalues.\n",
    "- Interesting number: $d$ PCs.\n",
    "\n",
    "<center><img src=\"figs/03_pcs.png\" width=400px alt=\"default\"/></center>\n"
   ]
  },
  {
   "cell_type": "markdown",
   "id": "229e77d2",
   "metadata": {
    "slideshow": {
     "slide_type": "skip"
    }
   },
   "source": [
    "## PCA: Two Interpretations\n",
    "\n",
    "$\\color{#EF5645}{\\text{Maximum Variance Direction:}}$\n",
    " projection captures maximum variance in the data\n",
    "$$\n",
    "\\frac{1}{n} \\sum_{i=1}^{n}\\left(\\mathbf{v}^{T} \\mathbf{x}_{i}\\right)^{2}=\\mathbf{v}^{T} \\mathbf{X X}^{T} \\mathbf{v}\n",
    "$$\n",
    "\n",
    "$\\color{#EF5645}{\\text{Minimum Reconstruction Error:}}$  projection yields minimum mean square error\n",
    "$$\n",
    "\\frac{1}{n} \\sum_{i=1}^{n}\\left\\|\\mathbf{x}_{i}-\\left(\\mathbf{v}^{T} \\mathbf{x}_{i}\\right) \\mathbf{v}\\right\\|^{2}\n",
    "$$\n",
    "\n",
    "<center><img src=\"figs/03_orthogonal.png\" width=400px alt=\"default\"/></center>\n"
   ]
  },
  {
   "cell_type": "markdown",
   "id": "6e6dcbad",
   "metadata": {
    "slideshow": {
     "slide_type": "slide"
    }
   },
   "source": [
    "## Dimension Reduction Method 1: Tangent Machine Learning"
   ]
  },
  {
   "cell_type": "markdown",
   "id": "178c1e98",
   "metadata": {
    "slideshow": {
     "slide_type": "slide"
    }
   },
   "source": [
    "### Recall: Tangent Space at the Fréchet Mean\n",
    "\n",
    "The Fréchet mean gives us a way of transforming our non-linear data into vectors:\n",
    "1. Compute the Fréchet mean $\\bar{x}$ of the data points\n",
    "2. Consider the tangent space $T_\\bar{x}M$of the manifold $M$ at $\\bar{x}$\n",
    "3. Compute the Logarithms of the data points at $\\bar{x}$\n",
    "\n",
    "$\\rightarrow$ Get a dataset on a vector space, and apply classical machine learning on it.\n",
    "\n",
    "$\\rightarrow$ Here, use `TangentPCA` (tPCA) that projects to the tangent space and performs PCA."
   ]
  },
  {
   "cell_type": "markdown",
   "id": "81d6b83c",
   "metadata": {
    "slideshow": {
     "slide_type": "slide"
    }
   },
   "source": [
    "## Example: tPCA on Kendall Shape Spaces"
   ]
  },
  {
   "cell_type": "code",
   "execution_count": 8,
   "id": "75da55fb",
   "metadata": {
    "slideshow": {
     "slide_type": "slide"
    }
   },
   "outputs": [],
   "source": [
    "from geomstats.geometry.pre_shape import PreShapeSpace, KendallShapeMetric\n",
    "\n",
    "m_ambient = 3\n",
    "k_landmarks = 5\n",
    "\n",
    "preshape = PreShapeSpace(m_ambient=m_ambient, k_landmarks=k_landmarks)\n",
    "kendall_metric = KendallShapeMetric(m_ambient=m_ambient, k_landmarks=k_landmarks)\n",
    "\n",
    "# matrices_metric = preshape.total_space_metric\n",
    "\n",
    "nerves_preshape = preshape.projection(nerves)\n",
    "base_point = nerves_preshape[0]\n",
    "nerves_shape = preshape.align(point=nerves_preshape, base_point=base_point)\n",
    "# print(nerves_preshape.shape)\n",
    "# print(preshape.belongs(nerves_preshape))\n",
    "# print(np.isclose(matrices_metric.norm(nerves_preshape), 1.0))"
   ]
  },
  {
   "cell_type": "markdown",
   "id": "aa2df751",
   "metadata": {
    "slideshow": {
     "slide_type": "slide"
    }
   },
   "source": [
    "1. $\\color{#EF5645}{\\text{Modelling}}$:\n",
    "\n",
    "- $\\color{#EF5645}{\\text{Decide on the model:}}$ We use tangent PCA (tPCA).\n",
    "- $\\color{#EF5645}{\\text{Decide on a loss function:}}$ `TangentPCA` comes with its loss function."
   ]
  },
  {
   "cell_type": "code",
   "execution_count": 9,
   "id": "1d6982d6",
   "metadata": {},
   "outputs": [],
   "source": [
    "from geomstats.learning.pca import TangentPCA\n",
    "\n",
    "tpca = TangentPCA(kendall_metric)"
   ]
  },
  {
   "cell_type": "markdown",
   "id": "160e689a",
   "metadata": {
    "slideshow": {
     "slide_type": "slide"
    }
   },
   "source": [
    "2. $\\color{#EF5645}{\\text{Split dataset into train / test sets:}}$ \n",
    "   - Train $X_1, ..., X_{n_\\text{train}}$: build the algorithm\n",
    "   - Test $X_{n_\\text{train}+1}, ..., X_n$: assess its performances."
   ]
  },
  {
   "cell_type": "code",
   "execution_count": 11,
   "id": "d3f7ccbb",
   "metadata": {},
   "outputs": [
    {
     "name": "stdout",
     "output_type": "stream",
     "text": [
      "(18, 5, 3)\n",
      "(4, 5, 3)\n"
     ]
    }
   ],
   "source": [
    "from sklearn.model_selection import train_test_split\n",
    "\n",
    "train_nerves_shape = nerves_shape[:18]\n",
    "test_nerves_shape = nerves_shape[18:]\n",
    "\n",
    "print(train_nerves_shape.shape)\n",
    "print(test_nerves_shape.shape)"
   ]
  },
  {
   "cell_type": "markdown",
   "id": "ffb5bc6b",
   "metadata": {
    "slideshow": {
     "slide_type": "slide"
    }
   },
   "source": [
    "3. $\\color{#EF5645}{\\text{Train:}}$ Build the algorithm"
   ]
  },
  {
   "cell_type": "code",
   "execution_count": 12,
   "id": "4324f0bc",
   "metadata": {},
   "outputs": [
    {
     "data": {
      "text/html": [
       "<style>#sk-container-id-1 {color: black;background-color: white;}#sk-container-id-1 pre{padding: 0;}#sk-container-id-1 div.sk-toggleable {background-color: white;}#sk-container-id-1 label.sk-toggleable__label {cursor: pointer;display: block;width: 100%;margin-bottom: 0;padding: 0.3em;box-sizing: border-box;text-align: center;}#sk-container-id-1 label.sk-toggleable__label-arrow:before {content: \"▸\";float: left;margin-right: 0.25em;color: #696969;}#sk-container-id-1 label.sk-toggleable__label-arrow:hover:before {color: black;}#sk-container-id-1 div.sk-estimator:hover label.sk-toggleable__label-arrow:before {color: black;}#sk-container-id-1 div.sk-toggleable__content {max-height: 0;max-width: 0;overflow: hidden;text-align: left;background-color: #f0f8ff;}#sk-container-id-1 div.sk-toggleable__content pre {margin: 0.2em;color: black;border-radius: 0.25em;background-color: #f0f8ff;}#sk-container-id-1 input.sk-toggleable__control:checked~div.sk-toggleable__content {max-height: 200px;max-width: 100%;overflow: auto;}#sk-container-id-1 input.sk-toggleable__control:checked~label.sk-toggleable__label-arrow:before {content: \"▾\";}#sk-container-id-1 div.sk-estimator input.sk-toggleable__control:checked~label.sk-toggleable__label {background-color: #d4ebff;}#sk-container-id-1 div.sk-label input.sk-toggleable__control:checked~label.sk-toggleable__label {background-color: #d4ebff;}#sk-container-id-1 input.sk-hidden--visually {border: 0;clip: rect(1px 1px 1px 1px);clip: rect(1px, 1px, 1px, 1px);height: 1px;margin: -1px;overflow: hidden;padding: 0;position: absolute;width: 1px;}#sk-container-id-1 div.sk-estimator {font-family: monospace;background-color: #f0f8ff;border: 1px dotted black;border-radius: 0.25em;box-sizing: border-box;margin-bottom: 0.5em;}#sk-container-id-1 div.sk-estimator:hover {background-color: #d4ebff;}#sk-container-id-1 div.sk-parallel-item::after {content: \"\";width: 100%;border-bottom: 1px solid gray;flex-grow: 1;}#sk-container-id-1 div.sk-label:hover label.sk-toggleable__label {background-color: #d4ebff;}#sk-container-id-1 div.sk-serial::before {content: \"\";position: absolute;border-left: 1px solid gray;box-sizing: border-box;top: 0;bottom: 0;left: 50%;z-index: 0;}#sk-container-id-1 div.sk-serial {display: flex;flex-direction: column;align-items: center;background-color: white;padding-right: 0.2em;padding-left: 0.2em;position: relative;}#sk-container-id-1 div.sk-item {position: relative;z-index: 1;}#sk-container-id-1 div.sk-parallel {display: flex;align-items: stretch;justify-content: center;background-color: white;position: relative;}#sk-container-id-1 div.sk-item::before, #sk-container-id-1 div.sk-parallel-item::before {content: \"\";position: absolute;border-left: 1px solid gray;box-sizing: border-box;top: 0;bottom: 0;left: 50%;z-index: -1;}#sk-container-id-1 div.sk-parallel-item {display: flex;flex-direction: column;z-index: 1;position: relative;background-color: white;}#sk-container-id-1 div.sk-parallel-item:first-child::after {align-self: flex-end;width: 50%;}#sk-container-id-1 div.sk-parallel-item:last-child::after {align-self: flex-start;width: 50%;}#sk-container-id-1 div.sk-parallel-item:only-child::after {width: 0;}#sk-container-id-1 div.sk-dashed-wrapped {border: 1px dashed gray;margin: 0 0.4em 0.5em 0.4em;box-sizing: border-box;padding-bottom: 0.4em;background-color: white;}#sk-container-id-1 div.sk-label label {font-family: monospace;font-weight: bold;display: inline-block;line-height: 1.2em;}#sk-container-id-1 div.sk-label-container {text-align: center;}#sk-container-id-1 div.sk-container {/* jupyter's `normalize.less` sets `[hidden] { display: none; }` but bootstrap.min.css set `[hidden] { display: none !important; }` so we also need the `!important` here to be able to override the default hidden behavior on the sphinx rendered scikit-learn.org. See: https://github.com/scikit-learn/scikit-learn/issues/21755 */display: inline-block !important;position: relative;}#sk-container-id-1 div.sk-text-repr-fallback {display: none;}</style><div id=\"sk-container-id-1\" class=\"sk-top-container\"><div class=\"sk-text-repr-fallback\"><pre>TangentPCA(metric=&lt;geomstats.geometry.pre_shape.KendallShapeMetric object at 0x7fe36046ddf0&gt;)</pre><b>In a Jupyter environment, please rerun this cell to show the HTML representation or trust the notebook. <br />On GitHub, the HTML representation is unable to render, please try loading this page with nbviewer.org.</b></div><div class=\"sk-container\" hidden><div class=\"sk-item\"><div class=\"sk-estimator sk-toggleable\"><input class=\"sk-toggleable__control sk-hidden--visually\" id=\"sk-estimator-id-1\" type=\"checkbox\" checked><label for=\"sk-estimator-id-1\" class=\"sk-toggleable__label sk-toggleable__label-arrow\">TangentPCA</label><div class=\"sk-toggleable__content\"><pre>TangentPCA(metric=&lt;geomstats.geometry.pre_shape.KendallShapeMetric object at 0x7fe36046ddf0&gt;)</pre></div></div></div></div></div>"
      ],
      "text/plain": [
       "TangentPCA(metric=<geomstats.geometry.pre_shape.KendallShapeMetric object at 0x7fe36046ddf0>)"
      ]
     },
     "execution_count": 12,
     "metadata": {},
     "output_type": "execute_result"
    }
   ],
   "source": [
    "tpca.fit(train_nerves_shape)"
   ]
  },
  {
   "cell_type": "code",
   "execution_count": 16,
   "id": "fe710f2c",
   "metadata": {
    "scrolled": true,
    "slideshow": {
     "slide_type": "slide"
    }
   },
   "outputs": [
    {
     "data": {
      "image/png": "[encoded data removed]",
      "text/plain": [
       "<Figure size 640x480 with 1 Axes>"
      ]
     },
     "metadata": {},
     "output_type": "display_data"
    }
   ],
   "source": [
    "#print(np.cumsum(tpca.explained_variance_ratio_))\n",
    "plt.plot(tpca.explained_variance_ratio_)\n",
    "plt.xlabel(\"Number of principal tangent components\", size=14)\n",
    "plt.ylabel(\"Fraction of explained variance\", size=14);"
   ]
  },
  {
   "cell_type": "markdown",
   "id": "ae3ac072",
   "metadata": {
    "slideshow": {
     "slide_type": "-"
    }
   },
   "source": [
    "Two principal components describe around 90% of the variance. "
   ]
  },
  {
   "cell_type": "markdown",
   "id": "9ae73ce0",
   "metadata": {
    "slideshow": {
     "slide_type": "slide"
    }
   },
   "source": [
    "4. $\\color{#EF5645}{\\text{Test:}}$ Assess its performances\n",
    "\n",
    "- We project the whole dataset on the principal components."
   ]
  },
  {
   "cell_type": "code",
   "execution_count": 17,
   "id": "da20c52b",
   "metadata": {
    "slideshow": {
     "slide_type": "slide"
    }
   },
   "outputs": [
    {
     "data": {
      "image/png": "[encoded data removed]",
      "text/plain": [
       "<Figure size 900x900 with 1 Axes>"
      ]
     },
     "metadata": {},
     "output_type": "display_data"
    }
   ],
   "source": [
    "X = tpca.transform(nerves_shape); plt.figure(figsize=(9, 9))\n",
    "for label, col in label_to_color.items():\n",
    "    mask = labels == label\n",
    "    plt.scatter(X[mask, 0], X[mask, 1], color=col, s=100, label=label_to_str[label])\n",
    "plt.legend(fontsize=14)\n",
    "for label, x, y in zip(monkeys, X[:, 0], X[:, 1]):\n",
    "    plt.annotate(label, xy=(x, y), xytext=(-20, 20), textcoords=\"offset points\", ha=\"right\", va=\"bottom\", bbox=dict(boxstyle=\"round,pad=0.5\", fc=\"white\", alpha=0.5), arrowprops=dict(arrowstyle=\"->\", connectionstyle=\"arc3,rad=0\"))"
   ]
  },
  {
   "cell_type": "markdown",
   "id": "756e0444",
   "metadata": {
    "slideshow": {
     "slide_type": "slide"
    }
   },
   "source": [
    "## Dimension Reduction Method 2: Principal Geodesic Analysis\n"
   ]
  },
  {
   "cell_type": "markdown",
   "id": "e05d89fa",
   "metadata": {
    "slideshow": {
     "slide_type": "skip"
    }
   },
   "source": [
    "- Variance. Following the work of Fréchet, we define the sample variance of the data as the expected value of the squared Riemannian distance from the mean.\n",
    "- Geodesic subspaces. The lower-dimensional subspaces in PCA are linear subspaces. For general manifolds we extend the concept of a linear subspace to that of a geodesic submanifold.\n",
    "- Projection. In PCA the data is projected onto linear subspaces. We define a projection operator for geodesic submanifolds, and show how it may be efficiently approximated."
   ]
  },
  {
   "cell_type": "markdown",
   "id": "24ee728b",
   "metadata": {
    "slideshow": {
     "slide_type": "slide"
    }
   },
   "source": [
    "### From Principal Component Analysis to Principal Geodesic Analysis\n",
    "\n",
    "$\\color{#EF5645}{\\text{Principal Component Analysis (PCA)}}$ is an:\n",
    "- orthogonal projection of the data (belonging to a vector space $\\mathbb{R}^D$),\n",
    "- into a (lower dimensional) linear subspace $\\mathbb{R}^d$, $d < D$, \n",
    "- so that the variance of the projected data is maximized.\n",
    "\n",
    "$\\color{#EF5645}{\\text{Principal Geodesic Analysis (PGA)}}$ is an:\n",
    "- $\\color{#EF5645}{\\text{Riemannian orthogonal projection}}$ of the data\n",
    "- into a (lower dimensional) $\\color{#EF5645}{\\text{geodesic subspace}}$, \n",
    "- so that the variance of the projected data is maximized."
   ]
  },
  {
   "cell_type": "markdown",
   "id": "44935609",
   "metadata": {
    "slideshow": {
     "slide_type": "slide"
    }
   },
   "source": [
    "### From Linear Subspace to Geodesic Subspace\n",
    "\n",
    "$\\color{#EF5645}{\\text{A submanifold $N$ of a manifold $M$}}$ is a subset of $M$ that is also a manifold.\n",
    "\n",
    "In general, if $N$ is a submanifold of a manifold $M$, geodesics of $N$ are not necessarily geodesics of $M$.\n",
    "\n",
    "- $\\color{#047C91}{\\text{Example}}$: $S^2$ as a submanifold of $\\mathbb{R}^3$."
   ]
  },
  {
   "cell_type": "markdown",
   "id": "ddccb750",
   "metadata": {
    "slideshow": {
     "slide_type": "slide"
    }
   },
   "source": [
    "$\\color{#EF5645}{\\text{A submanifold $H$ of $M$ is said to be geodesic at $x \\in H$}}$ if all geodesics of $H$ _passing through $x$_ are also geodesics of $M$. \n",
    "\n",
    "- $\\color{#047C91}{\\text{Example}}$: A linear subspace of $\\mathbb{R}^{D}$ is a submanifold geodesic at 0.\n",
    "\n",
    "$\\color{#EF5645}{\\text{Remark}}$:  Submanifolds geodesic at $x$ preserve distances to $x.$  This is an essential property for PGA because variance is defined as the average squared distance to the mean. Thus submanifolds geodesic at the mean will be the generalizations of the linear subspaces of PCA."
   ]
  },
  {
   "cell_type": "markdown",
   "id": "1f47d329",
   "metadata": {
    "slideshow": {
     "slide_type": "slide"
    }
   },
   "source": [
    "### From Linear Projection to the Riemannian Projection\n",
    "\n",
    "$\\color{#EF5645}{\\text{The projection of a point $x \\in M$}}$ onto a geodesic submanifold $H$ of $M$ is defined as the point on $H$ that is nearest to $x$ in Riemannian distance. Thus we define the projection operator $\\pi_{H}: M \\rightarrow H$ as\n",
    "$$\n",
    "\\pi_{H}(x)=\\underset{y \\in H}{\\arg \\min } d(x, y)^{2}\n",
    "$$\n",
    "\n",
    "\n",
    "<center><img src=\"figs/03_proj.png\" width=400px alt=\"default\"/></center>"
   ]
  },
  {
   "cell_type": "markdown",
   "id": "fa898753",
   "metadata": {
    "slideshow": {
     "slide_type": "slide"
    }
   },
   "source": [
    "## PGA: Maximizing the Variance\n",
    "\n",
    "The principal geodesic submanifolds are the images of the $V_{k}$ under the exponential map: $H_{k}=\\operatorname{Exp}_{\\mu}\\left(V_{k}\\right)$. \n",
    "\n",
    "The first principal direction is chosen to maximize the projected variance along the corresponding geodesic:\n",
    "$$\n",
    "v_{1}=\\underset{\\|v\\|=1}{\\arg \\max } \\sum_{i=1}^{n}\\left\\|\\log _{\\mu}\\left(\\pi_{H}\\left(x_{i}\\right)\\right)\\right\\|^{2},\n",
    "$$\n",
    "where $H=\\operatorname{Exp}_{\\mu}(\\operatorname{span}(\\{v\\}) \\cap U)$.\n",
    "\n",
    "The remaining principal directions are then defined recursively as\n",
    "$$\n",
    "\\begin{aligned}\n",
    "&v_{k}=\\underset{\\|v\\|=1}{\\arg \\max } \\sum_{i=1}^{n}\\left\\|\\log _{\\mu}\\left(\\pi_{H}\\left(x_{i}\\right)\\right)\\right\\|^{2} \\\\\n",
    "&\\text { where } H=\\operatorname{Exp}_{\\mu}\\left(\\operatorname{span}\\left(\\left\\{v_{1}, \\ldots, v_{k-1}, v\\right\\}\\right) \\cap U\\right) .\n",
    "\\end{aligned}\n",
    "$$"
   ]
  },
  {
   "cell_type": "code",
   "execution_count": null,
   "id": "e3c9d2bb",
   "metadata": {
    "slideshow": {
     "slide_type": "skip"
    }
   },
   "outputs": [],
   "source": [
    "- The subspace $V_{k}=\\operatorname{span}\\left(\\left\\{v_{1}, \\ldots, v_{k}\\right\\}\\right)$ is:\n",
    "  - the $k$-dimensional subspace \n",
    "  - that maximizes the variance \n",
    "  - of the data projected to that subspace: $\\pi_{V_1}(x_i) = v \\cdot x_{i}$"
   ]
  },
  {
   "cell_type": "markdown",
   "id": "218f632a",
   "metadata": {
    "slideshow": {
     "slide_type": "skip"
    }
   },
   "source": [
    "<center><img src=\"figs/03_pga_alg.png\" width=900px alt=\"default\"/></center>\n"
   ]
  },
  {
   "cell_type": "markdown",
   "id": "f79ac41b",
   "metadata": {
    "slideshow": {
     "slide_type": "slide"
    }
   },
   "source": [
    "### Beyond Principal Geodesic Analysis\n",
    "\n",
    "Towards a Diversity of Dimension Reduction Methods\n",
    "\n",
    "<center><img src=\"figs/03_dimred.png\" width=1050px alt=\"default\"/></center>"
   ]
  },
  {
   "cell_type": "markdown",
   "id": "752fa2a6",
   "metadata": {
    "slideshow": {
     "slide_type": "skip"
    }
   },
   "source": [
    "## Example: PGA on the Sphere"
   ]
  },
  {
   "cell_type": "code",
   "execution_count": 1,
   "id": "1b3edf13",
   "metadata": {
    "slideshow": {
     "slide_type": "skip"
    }
   },
   "outputs": [
    {
     "name": "stdout",
     "output_type": "stream",
     "text": [
      "Requirement already satisfied: torch in /Users/ninamiolane/opt/anaconda3/envs/ece594n/lib/python3.8/site-packages (1.13.1)\r\n",
      "Requirement already satisfied: typing-extensions in /Users/ninamiolane/opt/anaconda3/envs/ece594n/lib/python3.8/site-packages (from torch) (4.4.0)\r\n"
     ]
    }
   ],
   "source": [
    "!pip install torch"
   ]
  },
  {
   "cell_type": "code",
   "execution_count": null,
   "id": "d0098d98",
   "metadata": {
    "slideshow": {
     "slide_type": "skip"
    }
   },
   "outputs": [],
   "source": [
    "import math\n",
    "import os\n",
    "import torch.optim as optim\n",
    "import matplotlib.pyplot as plt\n",
    "os.environ['GEOMSTATS_BACKEND'] = 'pytorch'\n",
    "\n",
    "import geomstats.backend as gs\n",
    "import geomstats.visualization as visualization\n",
    "from geomstats.geometry.hypersphere import Hypersphere\n",
    "from geomstats.learning.frechet_mean import FrechetMean\n",
    "\n",
    "n = 2\n",
    "space = Hypersphere(n)\n",
    "metric = space.metric\n",
    "gs.random.seed(1)\n",
    "\n",
    "n_samples = 15\n",
    "precision = 10\n",
    "last_meeting_point = gs.array([0., 1., 0.])\n",
    "samples = space.random_riemannian_normal(\n",
    "    mean=last_meeting_point,\n",
    "    precision=precision, n_samples=n_samples)\n",
    "\n",
    "estimator = FrechetMean(space.metric)\n",
    "estimator.fit(samples)\n",
    "mean = estimator.estimate_\n",
    "\n",
    "\n",
    "def model(x, tangent_vec, base_point):\n",
    "    times = x[:, None] if metric.default_point_type == 'vector' else \\\n",
    "        x[:, None, None]\n",
    "    return metric.exp(times * tangent_vec[None], base_point)\n",
    "\n",
    "\n",
    "def projection(point, tangent_vec, base_point, max_iter=100, tol=1e-6):\n",
    "\n",
    "    def loss(param):\n",
    "        projected = model(param, tangent_vec, base_point)\n",
    "        return gs.sum(metric.squared_dist(point, projected))\n",
    "\n",
    "    # value_and_grad = gs.autograd.value_and_grad(loss)\n",
    "    parameter = 0 if point.ndim == 1 else gs.zeros(len(point))\n",
    "    parameter = parameter.requires_grad_(True)\n",
    "\n",
    "    opt = optim.Adam([parameter], lr=0.1)\n",
    "\n",
    "    e = 0\n",
    "    loss_at_param, criterion = math.inf, math.inf\n",
    "    for e in range(max_iter):\n",
    "        loss_at_param = loss(parameter)\n",
    "        opt.zero_grad()\n",
    "        loss_at_param.backward(retain_graph=True)\n",
    "        criterion = parameter.grad.detach().norm() / n_samples\n",
    "        if criterion <= tol:\n",
    "            print('Convergence tol reached')\n",
    "            break\n",
    "        opt.step()\n",
    "        if gs.any(gs.isnan(parameter)):\n",
    "            print('Nan')\n",
    "    if e == max_iter - 1:\n",
    "        print(f'Max iter reached with gradient norm: {criterion}')\n",
    "    print('Final loss:', loss_at_param.detach())\n",
    "    return model(parameter, tangent_vec, base_point), parameter.detach()\n",
    "\n",
    "\n",
    "# proj, coefs = projection(target, beta_hat, intercept_hat, max_iter=1000)\n",
    "\n",
    "\n",
    "def pga(point, base_point, max_iter=100, tol=1e-6):\n",
    "\n",
    "    def loss(param):\n",
    "        tangent_vec = space.to_tangent(param, base_point)\n",
    "        projected_, _ = projection(point, tangent_vec, base_point)\n",
    "        return gs.sum(metric.squared_dist(point, projected_)) + (\n",
    "                gs.sum((param - tangent_vec) ** 2)) + gs.maximum(\n",
    "                gs.sum(param ** 2) - gs.pi ** 2, 0)\n",
    "\n",
    "    # value_and_grad = gs.autograd.value_and_grad(loss)\n",
    "    #print(gs.random.rand(size=point[-1].shape))\n",
    "    parameter = 0 if point.ndim == 1 else gs.zeros(len(point)) #gs.random.rand(point[-1].shape)\n",
    "    parameter = parameter.requires_grad_(True)\n",
    "\n",
    "    opt = optim.Adam([parameter], lr=1)\n",
    "\n",
    "    e = 0\n",
    "    errors = 0\n",
    "    loss_at_param, criterion = math.inf, math.inf\n",
    "    previous_loss = loss_at_param\n",
    "    previous_parameter = parameter.detach().clone()\n",
    "    for e in range(max_iter):\n",
    "        loss_at_param = loss(parameter)\n",
    "        print('pga_loss', loss_at_param)\n",
    "        if loss_at_param > previous_loss:\n",
    "            errors += 1\n",
    "            if errors == 3:\n",
    "                print('breaking')\n",
    "                break\n",
    "\n",
    "        if gs.any(gs.isnan(loss_at_param)):\n",
    "            print('NaN')\n",
    "            break\n",
    "        opt.zero_grad()\n",
    "        loss_at_param.backward()\n",
    "        criterion = parameter.grad.detach().norm() / n_samples\n",
    "        if criterion <= tol:\n",
    "            print('Convergence tol reached')\n",
    "            break\n",
    "        previous_parameter = parameter.detach().clone()\n",
    "        previous_loss = loss_at_param\n",
    "        opt.step()\n",
    "\n",
    "    if e == max_iter - 1:\n",
    "        print('Max iter reached in PGA with grad', criterion)\n",
    "    print('Final loss:', loss_at_param)\n",
    "    tangent_vec_final = space.to_tangent(previous_parameter, base_point)\n",
    "    projected, times = projection(point, tangent_vec_final, base_point)\n",
    "    return projected.detach(), times.detach(), previous_parameter\n",
    "\n",
    "\n",
    "x =  pga(samples, mean, max_iter=10) # proj, good_times, component =\n",
    "\n",
    "fig = plt.figure(figsize=(8, 8))\n",
    "ax = fig.add_subplot(111, projection='3d')\n",
    "sphere_visu = visualization.Sphere(n_meridians=30)\n",
    "ax = sphere_visu.set_ax(ax=ax)\n",
    "sphere_visu.plot_heatmap(ax, lambda x: 1.)\n",
    "\n",
    "path = metric.geodesic(\n",
    "    initial_point=mean, initial_tangent_vec=component)\n",
    "regressed_geodesic = path(\n",
    "    gs.linspace(0., 1., 100) * gs.pi * 2 / metric.norm(component))\n",
    "\n",
    "i = 10\n",
    "ax.plot(\n",
    "    regressed_geodesic[:, 0],\n",
    "    regressed_geodesic[:, 1],\n",
    "    regressed_geodesic[:, 2], c='gray')\n",
    "sphere_visu.draw(ax, linewidth=1)\n",
    "logs = space.metric.log(proj.detach(), samples)\n",
    "geo = space.metric.geodesic(initial_point=samples, initial_tangent_vec=logs)\n",
    "t = gs.linspace(0, 1, 50)\n",
    "points = geo(t)\n",
    "sphere_visu.draw_points(ax, points.reshape(-1, 3), s=1, c='g')\n",
    "sphere_visu.draw_points(ax, proj.detach().numpy(), marker='o', c='green', s=i)\n",
    "sphere_visu.draw_points(ax, samples.numpy(), marker='o', c='black', s=i)\n",
    "sphere_visu.draw_points(ax, gs.array([mean]).numpy(), marker='o', c='r', s=i)\n",
    "ax.grid(False)\n",
    "plt.axis('off')\n",
    "\n",
    "plt.show()"
   ]
  },
  {
   "cell_type": "markdown",
   "id": "bc67809f",
   "metadata": {
    "slideshow": {
     "slide_type": "slide"
    }
   },
   "source": [
    "# This Unit\n",
    "\n",
    "- **Unit 3 (Machine Learning): Geometric Machine Learning for Shapes**\n",
    "  - A) Mean and Covariance\n",
    "  - B) Classification\n",
    "  - C) Regression\n",
    "  - D) Clustering\n",
    "  - **E) Dimension Reduction**\n",
    "    - Motivation: Shapes of Optical Nerve Heads\n",
    "    - Dimension Reduction Method 1: Tangent ML\n",
    "    - Dimension Reduction Method 2: Principal Geodesic Analysis"
   ]
  }
 ],
 "metadata": {
  "celltoolbar": "Slideshow",
  "kernelspec": {
   "display_name": "Python 3 (ipykernel)",
   "language": "python",
   "name": "python3"
  },
  "language_info": {
   "codemirror_mode": {
    "name": "ipython",
    "version": 3
   },
   "file_extension": ".py",
   "mimetype": "text/x-python",
   "name": "python",
   "nbconvert_exporter": "python",
   "pygments_lexer": "ipython3",
   "version": "3.8.15"
  }
 },
 "nbformat": 4,
 "nbformat_minor": 5
}
